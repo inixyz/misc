{
 "cells": [
  {
   "cell_type": "markdown",
   "id": "0673ade9",
   "metadata": {},
   "source": [
    "## How to import NumPy #"
   ]
  },
  {
   "cell_type": "code",
   "execution_count": 1,
   "id": "44b22415",
   "metadata": {},
   "outputs": [],
   "source": [
    "import numpy as np"
   ]
  },
  {
   "cell_type": "markdown",
   "id": "d5617fd3",
   "metadata": {},
   "source": [
    "This widespread convention allows access to NumPy features with a short,\n",
    "recognizable prefix `np` while distinguishing NumPy features from others\n",
    "that have the same name."
   ]
  },
  {
   "cell_type": "markdown",
   "id": "076113d4",
   "metadata": {},
   "source": [
    "## Why use NumPy? #"
   ]
  },
  {
   "cell_type": "markdown",
   "id": "df41c950",
   "metadata": {},
   "source": [
    "Python lists are excellent, general-purpose containers. They can be\n",
    "“heterogeneous”, meaning that they can contain elements of a variety of types,\n",
    "and they are quite fast when used to perform individual operations on a handful\n",
    "of elements."
   ]
  },
  {
   "cell_type": "markdown",
   "id": "ded5ef92",
   "metadata": {},
   "source": [
    "Depending on the characteristics of the data and the types of operations that\n",
    "need to be performed, other containers may be more appropriate; by exploiting\n",
    "these characteristics, we can improve speed, reduce memory consumption, and\n",
    "offer a high-level syntax for performing a variety of common processing tasks.\n",
    "NumPy shines when there are large quantities of “homogeneous” (same-type) data\n",
    "to be processed on the CPU."
   ]
  },
  {
   "cell_type": "markdown",
   "id": "0cf5495d",
   "metadata": {},
   "source": [
    "## What is an “array”? #"
   ]
  },
  {
   "cell_type": "markdown",
   "id": "b0fd6060",
   "metadata": {},
   "source": [
    "In computer programming, an array is a structure for storing and retrieving\n",
    "data. We often talk about an array as if it were a grid in space, with each\n",
    "cell storing one element of the data. For instance, if each element of the\n",
    "data were a number, we might visualize a “one-dimensional” array like a\n",
    "list:"
   ]
  },
  {
   "cell_type": "markdown",
   "id": "4aeb2c44-dee0-4419-8fd9-d132ab60b66a",
   "metadata": {},
   "source": [
    "![array_as_list](img/array_as_list.png)"
   ]
  },
  {
   "cell_type": "markdown",
   "id": "30c4afba",
   "metadata": {},
   "source": [
    "A two-dimensional array would be like a table:"
   ]
  },
  {
   "cell_type": "markdown",
   "id": "eba928b6-6064-426d-bf89-75117dec5ba7",
   "metadata": {},
   "source": [
    "![array_as_table](img/array_as_table.png)"
   ]
  },
  {
   "cell_type": "markdown",
   "id": "b912b0a3",
   "metadata": {},
   "source": [
    "A three-dimensional array would be like a set of tables, perhaps stacked\n",
    "as though they were printed on separate pages. In NumPy, this idea is\n",
    "generalized to an arbitrary number of dimensions, and so the fundamental\n",
    "array class is called `ndarray` : it represents an “N-dimensional\n",
    "array”."
   ]
  },
  {
   "cell_type": "markdown",
   "id": "1b55f26f",
   "metadata": {},
   "source": [
    "Most NumPy arrays have some restrictions. For instance:"
   ]
  },
  {
   "cell_type": "markdown",
   "id": "20c3ce27",
   "metadata": {},
   "source": [
    "- All elements of the array must be of the same type of data.\n",
    "- Once created, the total size of the array can’t change.\n",
    "- The shape must be “rectangular”, not “jagged”; e.g., each row of\n",
    "a two-dimensional array must have the same number of columns."
   ]
  },
  {
   "cell_type": "markdown",
   "id": "858b7a2d",
   "metadata": {},
   "source": [
    "All elements of the array must be of the same type of data."
   ]
  },
  {
   "cell_type": "markdown",
   "id": "61bd4372",
   "metadata": {},
   "source": [
    "Once created, the total size of the array can’t change."
   ]
  },
  {
   "cell_type": "markdown",
   "id": "fa8a0f68",
   "metadata": {},
   "source": [
    "The shape must be “rectangular”, not “jagged”; e.g., each row of\n",
    "a two-dimensional array must have the same number of columns."
   ]
  },
  {
   "cell_type": "markdown",
   "id": "9d047184",
   "metadata": {},
   "source": [
    "When these conditions are met, NumPy exploits these characteristics to\n",
    "make the array faster, more memory efficient, and more convenient to use than\n",
    "less restrictive data structures."
   ]
  },
  {
   "cell_type": "markdown",
   "id": "53c05b28",
   "metadata": {},
   "source": [
    "For the remainder of this document, we will use the word “array” to refer to\n",
    "an instance of `ndarray` ."
   ]
  },
  {
   "cell_type": "markdown",
   "id": "5f95fed6",
   "metadata": {},
   "source": [
    "## Array fundamentals #"
   ]
  },
  {
   "cell_type": "markdown",
   "id": "3561c1b6",
   "metadata": {},
   "source": [
    "One way to initialize an array is using a Python sequence, such as a list.\n",
    "For example:"
   ]
  },
  {
   "cell_type": "code",
   "execution_count": 2,
   "id": "41f1e5a0",
   "metadata": {},
   "outputs": [],
   "source": [
    "a = np.array([1, 2, 3, 4, 5, 6])"
   ]
  },
  {
   "cell_type": "code",
   "execution_count": 3,
   "id": "62a15eeb",
   "metadata": {},
   "outputs": [
    {
     "data": {
      "text/plain": [
       "array([1, 2, 3, 4, 5, 6])"
      ]
     },
     "execution_count": 3,
     "metadata": {},
     "output_type": "execute_result"
    }
   ],
   "source": [
    "a"
   ]
  },
  {
   "cell_type": "markdown",
   "id": "32a8adea",
   "metadata": {},
   "source": [
    "Elements of an array can be accessed in various ways . For instance, we can access an\n",
    "individual element of this array as we would access an element in the original\n",
    "list: using the integer index of the element within square brackets."
   ]
  },
  {
   "cell_type": "code",
   "execution_count": 4,
   "id": "cd39f7bb",
   "metadata": {},
   "outputs": [
    {
     "data": {
      "text/plain": [
       "np.int64(1)"
      ]
     },
     "execution_count": 4,
     "metadata": {},
     "output_type": "execute_result"
    }
   ],
   "source": [
    "a[0]"
   ]
  },
  {
   "cell_type": "markdown",
   "id": "bb56380d",
   "metadata": {},
   "source": [
    "### Note"
   ]
  },
  {
   "cell_type": "markdown",
   "id": "5b964d6c",
   "metadata": {},
   "source": [
    "As with built-in Python sequences, NumPy arrays are “0-indexed”: the first\n",
    "element of the array is accessed using index 0 , not 1 ."
   ]
  },
  {
   "cell_type": "markdown",
   "id": "da0f232e",
   "metadata": {},
   "source": [
    "Like the original list, the array is mutable."
   ]
  },
  {
   "cell_type": "code",
   "execution_count": 5,
   "id": "d83f115d",
   "metadata": {},
   "outputs": [],
   "source": [
    "a[0] = 10"
   ]
  },
  {
   "cell_type": "code",
   "execution_count": 6,
   "id": "08ecdd09",
   "metadata": {},
   "outputs": [
    {
     "data": {
      "text/plain": [
       "array([10,  2,  3,  4,  5,  6])"
      ]
     },
     "execution_count": 6,
     "metadata": {},
     "output_type": "execute_result"
    }
   ],
   "source": [
    "a"
   ]
  },
  {
   "cell_type": "markdown",
   "id": "498ea579",
   "metadata": {},
   "source": [
    "Also like the original list, Python slice notation can be used for indexing."
   ]
  },
  {
   "cell_type": "code",
   "execution_count": 7,
   "id": "cd91ddee",
   "metadata": {},
   "outputs": [
    {
     "data": {
      "text/plain": [
       "array([10,  2,  3])"
      ]
     },
     "execution_count": 7,
     "metadata": {},
     "output_type": "execute_result"
    }
   ],
   "source": [
    "a[:3]"
   ]
  },
  {
   "cell_type": "markdown",
   "id": "8569c3f7",
   "metadata": {},
   "source": [
    "One major difference is that slice indexing of a list copies the elements into\n",
    "a new list, but slicing an array returns a view : an object that refers to the\n",
    "data in the original array. The original array can be mutated using the view."
   ]
  },
  {
   "cell_type": "code",
   "execution_count": 8,
   "id": "a532b78a",
   "metadata": {},
   "outputs": [],
   "source": [
    "b = a[3:]"
   ]
  },
  {
   "cell_type": "code",
   "execution_count": 9,
   "id": "d57136fd",
   "metadata": {},
   "outputs": [
    {
     "data": {
      "text/plain": [
       "array([4, 5, 6])"
      ]
     },
     "execution_count": 9,
     "metadata": {},
     "output_type": "execute_result"
    }
   ],
   "source": [
    "b"
   ]
  },
  {
   "cell_type": "code",
   "execution_count": 10,
   "id": "5ab263fe",
   "metadata": {},
   "outputs": [],
   "source": [
    "b[0] = 40"
   ]
  },
  {
   "cell_type": "code",
   "execution_count": 11,
   "id": "0cd5f89d",
   "metadata": {},
   "outputs": [
    {
     "data": {
      "text/plain": [
       "array([10,  2,  3, 40,  5,  6])"
      ]
     },
     "execution_count": 11,
     "metadata": {},
     "output_type": "execute_result"
    }
   ],
   "source": [
    "a"
   ]
  },
  {
   "cell_type": "markdown",
   "id": "a80f75c7",
   "metadata": {},
   "source": [
    "See Copies and views for a more comprehensive explanation of when\n",
    "array operations return views rather than copies."
   ]
  },
  {
   "cell_type": "markdown",
   "id": "b012f980",
   "metadata": {},
   "source": [
    "Two- and higher-dimensional arrays can be initialized from nested Python\n",
    "sequences:"
   ]
  },
  {
   "cell_type": "code",
   "execution_count": 12,
   "id": "4ccc133c",
   "metadata": {},
   "outputs": [],
   "source": [
    "a = np.array([[1, 2, 3, 4], [5, 6, 7, 8], [9, 10, 11, 12]])"
   ]
  },
  {
   "cell_type": "code",
   "execution_count": 13,
   "id": "6a90c9b9",
   "metadata": {},
   "outputs": [
    {
     "data": {
      "text/plain": [
       "array([[ 1,  2,  3,  4],\n",
       "       [ 5,  6,  7,  8],\n",
       "       [ 9, 10, 11, 12]])"
      ]
     },
     "execution_count": 13,
     "metadata": {},
     "output_type": "execute_result"
    }
   ],
   "source": [
    "a"
   ]
  },
  {
   "cell_type": "markdown",
   "id": "64fcb920",
   "metadata": {},
   "source": [
    "In NumPy, a dimension of an array is sometimes referred to as an “axis”. This\n",
    "terminology may be useful to disambiguate between the dimensionality of an\n",
    "array and the dimensionality of the data represented by the array. For\n",
    "instance, the array a could represent three points, each lying within a\n",
    "four-dimensional space, but a has only two “axes”."
   ]
  },
  {
   "cell_type": "markdown",
   "id": "babbaeff",
   "metadata": {},
   "source": [
    "Another difference between an array and a list of lists is that an\n",
    "element of the array can be accessed by specifying the index along each\n",
    "axis within a single set of square brackets, separated by commas.\n",
    "For instance, the element 8 is in row 1 and column 3 :"
   ]
  },
  {
   "cell_type": "code",
   "execution_count": 14,
   "id": "e31107fa",
   "metadata": {},
   "outputs": [
    {
     "data": {
      "text/plain": [
       "np.int64(8)"
      ]
     },
     "execution_count": 14,
     "metadata": {},
     "output_type": "execute_result"
    }
   ],
   "source": [
    "a[1, 3]"
   ]
  },
  {
   "cell_type": "markdown",
   "id": "6f440a8c",
   "metadata": {},
   "source": [
    "### Note"
   ]
  },
  {
   "cell_type": "markdown",
   "id": "83fb97f8",
   "metadata": {},
   "source": [
    "It is familiar practice in mathematics to refer to elements of a matrix\n",
    "by the row index first and the column index second. This happens to be true\n",
    "for two-dimensional arrays, but a better mental model is to think of\n",
    "the column index as coming last and the row index as second to last .\n",
    "This generalizes to arrays with any number of dimensions."
   ]
  },
  {
   "cell_type": "markdown",
   "id": "3c0bda17",
   "metadata": {},
   "source": [
    "### Note"
   ]
  },
  {
   "cell_type": "markdown",
   "id": "0e7c2a53",
   "metadata": {},
   "source": [
    "You might hear of a 0-D (zero-dimensional) array referred to as a “scalar”,\n",
    "a 1-D (one-dimensional) array as a “vector”, a 2-D (two-dimensional) array\n",
    "as a “matrix”, or an N-D (N-dimensional, where “N” is typically an integer\n",
    "greater than 2) array as a “tensor”. For clarity, it is best to avoid the\n",
    "mathematical terms when referring to an array because the mathematical\n",
    "objects with these names behave differently than arrays (e.g. “matrix”\n",
    "multiplication is fundamentally different from “array” multiplication), and\n",
    "there are other objects in the scientific Python ecosystem that have these\n",
    "names (e.g. the fundamental data structure of PyTorch is the “tensor”)."
   ]
  },
  {
   "cell_type": "markdown",
   "id": "61c32373",
   "metadata": {},
   "source": [
    "## Array attributes #"
   ]
  },
  {
   "cell_type": "markdown",
   "id": "8573f80c",
   "metadata": {},
   "source": [
    "This section covers the ndim , shape , size , and dtype attributes of an array ."
   ]
  },
  {
   "cell_type": "markdown",
   "id": "33e00ef9",
   "metadata": {},
   "source": [
    "The number of dimensions of an array is contained in the ndim attribute."
   ]
  },
  {
   "cell_type": "code",
   "execution_count": 15,
   "id": "69249b20",
   "metadata": {},
   "outputs": [
    {
     "data": {
      "text/plain": [
       "2"
      ]
     },
     "execution_count": 15,
     "metadata": {},
     "output_type": "execute_result"
    }
   ],
   "source": [
    "a.ndim"
   ]
  },
  {
   "cell_type": "markdown",
   "id": "fec84a6d",
   "metadata": {},
   "source": [
    "The shape of an array is a tuple of non-negative integers that specify the\n",
    "number of elements along each dimension."
   ]
  },
  {
   "cell_type": "code",
   "execution_count": 16,
   "id": "59dbc76d",
   "metadata": {},
   "outputs": [
    {
     "data": {
      "text/plain": [
       "(3, 4)"
      ]
     },
     "execution_count": 16,
     "metadata": {},
     "output_type": "execute_result"
    }
   ],
   "source": [
    "a.shape"
   ]
  },
  {
   "cell_type": "code",
   "execution_count": 17,
   "id": "d58d0810",
   "metadata": {},
   "outputs": [
    {
     "data": {
      "text/plain": [
       "True"
      ]
     },
     "execution_count": 17,
     "metadata": {},
     "output_type": "execute_result"
    }
   ],
   "source": [
    "len(a.shape) == a.ndim"
   ]
  },
  {
   "cell_type": "markdown",
   "id": "f2ea1a79",
   "metadata": {},
   "source": [
    "The fixed, total number of elements in array is contained in the size attribute."
   ]
  },
  {
   "cell_type": "code",
   "execution_count": 18,
   "id": "51675ee8",
   "metadata": {},
   "outputs": [
    {
     "data": {
      "text/plain": [
       "12"
      ]
     },
     "execution_count": 18,
     "metadata": {},
     "output_type": "execute_result"
    }
   ],
   "source": [
    "a.size"
   ]
  },
  {
   "cell_type": "code",
   "execution_count": 19,
   "id": "aeaf8b43",
   "metadata": {},
   "outputs": [],
   "source": [
    "import math"
   ]
  },
  {
   "cell_type": "code",
   "execution_count": 20,
   "id": "49230a11",
   "metadata": {},
   "outputs": [
    {
     "data": {
      "text/plain": [
       "True"
      ]
     },
     "execution_count": 20,
     "metadata": {},
     "output_type": "execute_result"
    }
   ],
   "source": [
    "a.size == math.prod(a.shape)"
   ]
  },
  {
   "cell_type": "markdown",
   "id": "b133b465",
   "metadata": {},
   "source": [
    "Arrays are typically “homogeneous”, meaning that they contain elements of\n",
    "only one “data type”. The data type is recorded in the dtype attribute."
   ]
  },
  {
   "cell_type": "code",
   "execution_count": 21,
   "id": "5ec7a2ca",
   "metadata": {},
   "outputs": [
    {
     "data": {
      "text/plain": [
       "dtype('int64')"
      ]
     },
     "execution_count": 21,
     "metadata": {},
     "output_type": "execute_result"
    }
   ],
   "source": [
    "a.dtype"
   ]
  },
  {
   "cell_type": "markdown",
   "id": "39b6b9b5",
   "metadata": {},
   "source": [
    "Read more about array attributes here and learn about array objects here ."
   ]
  },
  {
   "cell_type": "markdown",
   "id": "41fc11f4",
   "metadata": {},
   "source": [
    "## How to create a basic array #"
   ]
  },
  {
   "cell_type": "markdown",
   "id": "3302aa77",
   "metadata": {},
   "source": [
    "This section covers np.zeros() , np.ones() , np.empty() , np.arange() , np.linspace()"
   ]
  },
  {
   "cell_type": "markdown",
   "id": "f02e4248",
   "metadata": {},
   "source": [
    "Besides creating an array from a sequence of elements, you can easily create an\n",
    "array filled with 0 ’s:"
   ]
  },
  {
   "cell_type": "code",
   "execution_count": 22,
   "id": "abe17691",
   "metadata": {},
   "outputs": [
    {
     "data": {
      "text/plain": [
       "array([0., 0.])"
      ]
     },
     "execution_count": 22,
     "metadata": {},
     "output_type": "execute_result"
    }
   ],
   "source": [
    "np.zeros(2)"
   ]
  },
  {
   "cell_type": "markdown",
   "id": "e33ed62a",
   "metadata": {},
   "source": [
    "Or an array filled with 1 ’s:"
   ]
  },
  {
   "cell_type": "code",
   "execution_count": 23,
   "id": "928503b2",
   "metadata": {},
   "outputs": [
    {
     "data": {
      "text/plain": [
       "array([1., 1.])"
      ]
     },
     "execution_count": 23,
     "metadata": {},
     "output_type": "execute_result"
    }
   ],
   "source": [
    "np.ones(2)"
   ]
  },
  {
   "cell_type": "markdown",
   "id": "788c895d",
   "metadata": {},
   "source": [
    "Or even an empty array! The function empty creates an array whose initial\n",
    "content is random and depends on the state of the memory. The reason to use empty over zeros (or something similar) is speed - just make sure to\n",
    "fill every element afterwards!"
   ]
  },
  {
   "cell_type": "code",
   "execution_count": 24,
   "id": "1380a027",
   "metadata": {},
   "outputs": [],
   "source": [
    "# Create an empty array with 2 elements"
   ]
  },
  {
   "cell_type": "code",
   "execution_count": 25,
   "id": "d39e36db",
   "metadata": {},
   "outputs": [
    {
     "data": {
      "text/plain": [
       "array([1., 1.])"
      ]
     },
     "execution_count": 25,
     "metadata": {},
     "output_type": "execute_result"
    }
   ],
   "source": [
    "np.empty(2)"
   ]
  },
  {
   "cell_type": "markdown",
   "id": "f053e329",
   "metadata": {},
   "source": [
    "You can create an array with a range of elements:"
   ]
  },
  {
   "cell_type": "code",
   "execution_count": 26,
   "id": "50436917",
   "metadata": {},
   "outputs": [
    {
     "data": {
      "text/plain": [
       "array([0, 1, 2, 3])"
      ]
     },
     "execution_count": 26,
     "metadata": {},
     "output_type": "execute_result"
    }
   ],
   "source": [
    "np.arange(4)"
   ]
  },
  {
   "cell_type": "markdown",
   "id": "312df91a",
   "metadata": {},
   "source": [
    "And even an array that contains a range of evenly spaced intervals. To do this,\n",
    "you will specify the first number , last number , and the step size ."
   ]
  },
  {
   "cell_type": "code",
   "execution_count": 27,
   "id": "655f4bb2",
   "metadata": {},
   "outputs": [
    {
     "data": {
      "text/plain": [
       "array([2, 4, 6, 8])"
      ]
     },
     "execution_count": 27,
     "metadata": {},
     "output_type": "execute_result"
    }
   ],
   "source": [
    "np.arange(2, 9, 2)"
   ]
  },
  {
   "cell_type": "markdown",
   "id": "62e34541",
   "metadata": {},
   "source": [
    "You can also use np.linspace() to create an array with values that are\n",
    "spaced linearly in a specified interval:"
   ]
  },
  {
   "cell_type": "code",
   "execution_count": 28,
   "id": "28383a2d",
   "metadata": {},
   "outputs": [
    {
     "data": {
      "text/plain": [
       "array([ 0. ,  2.5,  5. ,  7.5, 10. ])"
      ]
     },
     "execution_count": 28,
     "metadata": {},
     "output_type": "execute_result"
    }
   ],
   "source": [
    "np.linspace(0, 10, num=5)"
   ]
  },
  {
   "cell_type": "markdown",
   "id": "43cbdb9d",
   "metadata": {},
   "source": [
    "Specifying your data type"
   ]
  },
  {
   "cell_type": "markdown",
   "id": "e0daa207",
   "metadata": {},
   "source": [
    "While the default data type is floating point ( np.float64 ), you can explicitly\n",
    "specify which data type you want using the dtype keyword."
   ]
  },
  {
   "cell_type": "code",
   "execution_count": 29,
   "id": "d665a207",
   "metadata": {},
   "outputs": [],
   "source": [
    "x = np.ones(2, dtype=np.int64)"
   ]
  },
  {
   "cell_type": "code",
   "execution_count": 30,
   "id": "9a1eb59b",
   "metadata": {},
   "outputs": [
    {
     "data": {
      "text/plain": [
       "array([1, 1])"
      ]
     },
     "execution_count": 30,
     "metadata": {},
     "output_type": "execute_result"
    }
   ],
   "source": [
    "x"
   ]
  },
  {
   "cell_type": "markdown",
   "id": "706c88ae",
   "metadata": {},
   "source": [
    "Learn more about creating arrays here"
   ]
  },
  {
   "cell_type": "markdown",
   "id": "9c91a0ac",
   "metadata": {},
   "source": [
    "## Adding, removing, and sorting elements #"
   ]
  },
  {
   "cell_type": "markdown",
   "id": "ce7a5a6d",
   "metadata": {},
   "source": [
    "This section covers np.sort() , np.concatenate()"
   ]
  },
  {
   "cell_type": "markdown",
   "id": "e7c1f3d2",
   "metadata": {},
   "source": [
    "Sorting an array is simple with np.sort() . You can specify the axis, kind,\n",
    "and order when you call the function."
   ]
  },
  {
   "cell_type": "markdown",
   "id": "150360ad",
   "metadata": {},
   "source": [
    "If you start with this array:"
   ]
  },
  {
   "cell_type": "code",
   "execution_count": 31,
   "id": "ab369336",
   "metadata": {},
   "outputs": [],
   "source": [
    "arr = np.array([2, 1, 5, 3, 7, 4, 6, 8])"
   ]
  },
  {
   "cell_type": "markdown",
   "id": "13d61f60",
   "metadata": {},
   "source": [
    "You can quickly sort the numbers in ascending order with:"
   ]
  },
  {
   "cell_type": "code",
   "execution_count": 32,
   "id": "340f186b",
   "metadata": {},
   "outputs": [
    {
     "data": {
      "text/plain": [
       "array([1, 2, 3, 4, 5, 6, 7, 8])"
      ]
     },
     "execution_count": 32,
     "metadata": {},
     "output_type": "execute_result"
    }
   ],
   "source": [
    "np.sort(arr)"
   ]
  },
  {
   "cell_type": "markdown",
   "id": "36095920",
   "metadata": {},
   "source": [
    "In addition to sort, which returns a sorted copy of an array, you can use:"
   ]
  },
  {
   "cell_type": "markdown",
   "id": "3302c56b",
   "metadata": {},
   "source": [
    "- argsort , which is an indirect sort along a specified axis,\n",
    "- lexsort , which is an indirect stable sort on multiple keys,\n",
    "- searchsorted , which will find elements in a sorted array, and\n",
    "- partition , which is a partial sort."
   ]
  },
  {
   "cell_type": "markdown",
   "id": "ae363fc2",
   "metadata": {},
   "source": [
    "If you start with these arrays:"
   ]
  },
  {
   "cell_type": "code",
   "execution_count": 33,
   "id": "b80a8a52",
   "metadata": {},
   "outputs": [],
   "source": [
    "a = np.array([1, 2, 3, 4])"
   ]
  },
  {
   "cell_type": "code",
   "execution_count": 34,
   "id": "9af23a09",
   "metadata": {},
   "outputs": [],
   "source": [
    "b = np.array([5, 6, 7, 8])"
   ]
  },
  {
   "cell_type": "markdown",
   "id": "738706d1",
   "metadata": {},
   "source": [
    "You can concatenate them with np.concatenate() ."
   ]
  },
  {
   "cell_type": "code",
   "execution_count": 35,
   "id": "292136be",
   "metadata": {},
   "outputs": [
    {
     "data": {
      "text/plain": [
       "array([1, 2, 3, 4, 5, 6, 7, 8])"
      ]
     },
     "execution_count": 35,
     "metadata": {},
     "output_type": "execute_result"
    }
   ],
   "source": [
    "np.concatenate((a, b))"
   ]
  },
  {
   "cell_type": "markdown",
   "id": "32ff4ba0",
   "metadata": {},
   "source": [
    "Or, if you start with these arrays:"
   ]
  },
  {
   "cell_type": "code",
   "execution_count": 36,
   "id": "114835b5",
   "metadata": {},
   "outputs": [],
   "source": [
    "x = np.array([[1, 2], [3, 4]])"
   ]
  },
  {
   "cell_type": "code",
   "execution_count": 37,
   "id": "0e38e69c",
   "metadata": {},
   "outputs": [],
   "source": [
    "y = np.array([[5, 6]])"
   ]
  },
  {
   "cell_type": "markdown",
   "id": "01bb7501",
   "metadata": {},
   "source": [
    "You can concatenate them with:"
   ]
  },
  {
   "cell_type": "code",
   "execution_count": 38,
   "id": "ba05b467",
   "metadata": {},
   "outputs": [
    {
     "data": {
      "text/plain": [
       "array([[1, 2],\n",
       "       [3, 4],\n",
       "       [5, 6]])"
      ]
     },
     "execution_count": 38,
     "metadata": {},
     "output_type": "execute_result"
    }
   ],
   "source": [
    "np.concatenate((x, y), axis=0)"
   ]
  },
  {
   "cell_type": "markdown",
   "id": "ebc18c81",
   "metadata": {},
   "source": [
    "In order to remove elements from an array, it’s simple to use indexing to select\n",
    "the elements that you want to keep."
   ]
  },
  {
   "cell_type": "markdown",
   "id": "4c68ad6f",
   "metadata": {},
   "source": [
    "## How do you know the shape and size of an array? #"
   ]
  },
  {
   "cell_type": "markdown",
   "id": "4c6b8ac9",
   "metadata": {},
   "source": [
    "This section covers ndarray.ndim , ndarray.size , ndarray.shape"
   ]
  },
  {
   "cell_type": "markdown",
   "id": "43a24960",
   "metadata": {},
   "source": [
    "ndarray.ndim will tell you the number of axes, or dimensions, of the array."
   ]
  },
  {
   "cell_type": "markdown",
   "id": "ad4ce996",
   "metadata": {},
   "source": [
    "ndarray.size will tell you the total number of elements of the array. This\n",
    "is the product of the elements of the array’s shape."
   ]
  },
  {
   "cell_type": "markdown",
   "id": "a5941930",
   "metadata": {},
   "source": [
    "ndarray.shape will display a tuple of integers that indicate the number of\n",
    "elements stored along each dimension of the array. If, for example, you have a\n",
    "2-D array with 2 rows and 3 columns, the shape of your array is (2, 3) ."
   ]
  },
  {
   "cell_type": "markdown",
   "id": "afbd147b",
   "metadata": {},
   "source": [
    "For example, if you create this array:"
   ]
  },
  {
   "cell_type": "code",
   "execution_count": 39,
   "id": "b0d06692",
   "metadata": {},
   "outputs": [],
   "source": [
    "array_example = np.array([[[0, 1, 2, 3],\n",
    "                           [4, 5, 6, 7]],\n",
    "                          [[0, 1, 2, 3],\n",
    "                           [4, 5, 6, 7]],\n",
    "                          [[0 ,1 ,2, 3],\n",
    "                           [4, 5, 6, 7]]])"
   ]
  },
  {
   "cell_type": "markdown",
   "id": "df522920",
   "metadata": {},
   "source": [
    "To find the number of dimensions of the array, run:"
   ]
  },
  {
   "cell_type": "code",
   "execution_count": 40,
   "id": "3bd169fd",
   "metadata": {},
   "outputs": [
    {
     "data": {
      "text/plain": [
       "3"
      ]
     },
     "execution_count": 40,
     "metadata": {},
     "output_type": "execute_result"
    }
   ],
   "source": [
    "array_example.ndim"
   ]
  },
  {
   "cell_type": "markdown",
   "id": "36b7aa82",
   "metadata": {},
   "source": [
    "To find the total number of elements in the array, run:"
   ]
  },
  {
   "cell_type": "code",
   "execution_count": 41,
   "id": "ed2ff27d",
   "metadata": {},
   "outputs": [
    {
     "data": {
      "text/plain": [
       "24"
      ]
     },
     "execution_count": 41,
     "metadata": {},
     "output_type": "execute_result"
    }
   ],
   "source": [
    "array_example.size"
   ]
  },
  {
   "cell_type": "markdown",
   "id": "180e781d",
   "metadata": {},
   "source": [
    "And to find the shape of your array, run:"
   ]
  },
  {
   "cell_type": "code",
   "execution_count": 42,
   "id": "5e255315",
   "metadata": {},
   "outputs": [
    {
     "data": {
      "text/plain": [
       "(3, 2, 4)"
      ]
     },
     "execution_count": 42,
     "metadata": {},
     "output_type": "execute_result"
    }
   ],
   "source": [
    "array_example.shape"
   ]
  },
  {
   "cell_type": "markdown",
   "id": "7908a8e2",
   "metadata": {},
   "source": [
    "## Can you reshape an array? #"
   ]
  },
  {
   "cell_type": "markdown",
   "id": "931d7bff",
   "metadata": {},
   "source": [
    "This section covers arr.reshape()"
   ]
  },
  {
   "cell_type": "markdown",
   "id": "87ab62f4",
   "metadata": {},
   "source": [
    "Yes!"
   ]
  },
  {
   "cell_type": "markdown",
   "id": "384a6d4a",
   "metadata": {},
   "source": [
    "Using arr.reshape() will give a new shape to an array without changing the\n",
    "data. Just remember that when you use the reshape method, the array you want to\n",
    "produce needs to have the same number of elements as the original array. If you\n",
    "start with an array with 12 elements, you’ll need to make sure that your new\n",
    "array also has a total of 12 elements."
   ]
  },
  {
   "cell_type": "markdown",
   "id": "70e92192",
   "metadata": {},
   "source": [
    "If you start with this array:"
   ]
  },
  {
   "cell_type": "code",
   "execution_count": 43,
   "id": "21e70600",
   "metadata": {},
   "outputs": [],
   "source": [
    "a = np.arange(6)"
   ]
  },
  {
   "cell_type": "code",
   "execution_count": 44,
   "id": "0f600afe",
   "metadata": {},
   "outputs": [
    {
     "name": "stdout",
     "output_type": "stream",
     "text": [
      "[0 1 2 3 4 5]\n"
     ]
    }
   ],
   "source": [
    "print(a)"
   ]
  },
  {
   "cell_type": "markdown",
   "id": "49dae8b4",
   "metadata": {},
   "source": [
    "You can use reshape() to reshape your array. For example, you can reshape\n",
    "this array to an array with three rows and two columns:"
   ]
  },
  {
   "cell_type": "code",
   "execution_count": 45,
   "id": "c3a7d488",
   "metadata": {},
   "outputs": [],
   "source": [
    "b = a.reshape(3, 2)"
   ]
  },
  {
   "cell_type": "code",
   "execution_count": 46,
   "id": "12f95eca",
   "metadata": {},
   "outputs": [
    {
     "name": "stdout",
     "output_type": "stream",
     "text": [
      "[[0 1]\n",
      " [2 3]\n",
      " [4 5]]\n"
     ]
    }
   ],
   "source": [
    "print(b)"
   ]
  },
  {
   "cell_type": "markdown",
   "id": "2a9588d6",
   "metadata": {},
   "source": [
    "With np.reshape , you can specify a few optional parameters:"
   ]
  },
  {
   "cell_type": "code",
   "execution_count": 47,
   "id": "849d93cd",
   "metadata": {},
   "outputs": [
    {
     "data": {
      "text/plain": [
       "array([[0, 1, 2, 3, 4, 5]])"
      ]
     },
     "execution_count": 47,
     "metadata": {},
     "output_type": "execute_result"
    }
   ],
   "source": [
    "np.reshape(a, shape=(1, 6), order='C')"
   ]
  },
  {
   "cell_type": "markdown",
   "id": "fc35d4bf",
   "metadata": {},
   "source": [
    "a is the array to be reshaped."
   ]
  },
  {
   "cell_type": "markdown",
   "id": "6f2e05bc",
   "metadata": {},
   "source": [
    "shape is the new shape you want. You can specify an integer or a tuple of\n",
    "integers. If you specify an integer, the result will be an array of that length.\n",
    "The shape should be compatible with the original shape."
   ]
  },
  {
   "cell_type": "markdown",
   "id": "393417fc",
   "metadata": {},
   "source": [
    "order: C means to read/write the elements using C-like index order, F means to read/write the elements using Fortran-like index order, A means to read/write the elements in Fortran-like index order if a is Fortran\n",
    "contiguous in memory, C-like order otherwise. (This is an optional parameter and\n",
    "doesn’t need to be specified.)"
   ]
  },
  {
   "cell_type": "markdown",
   "id": "49b37e93",
   "metadata": {},
   "source": [
    "If you want to learn more about C and Fortran order, you can read more about the internal organization of NumPy arrays here .\n",
    "Essentially, C and Fortran orders have to do with how indices correspond\n",
    "to the order the array is stored in memory. In Fortran, when moving through\n",
    "the elements of a two-dimensional array as it is stored in memory, the first index is the most rapidly varying index. As the first index moves to the next\n",
    "row as it changes, the matrix is stored one column at a time.\n",
    "This is why Fortran is thought of as a Column-major language .\n",
    "In C on the other hand, the last index changes\n",
    "the most rapidly. The matrix is stored by rows, making it a Row-major\n",
    "language . What you do for C or Fortran depends on whether it’s more important\n",
    "to preserve the indexing convention or not reorder the data."
   ]
  },
  {
   "cell_type": "markdown",
   "id": "1a1bfdcf",
   "metadata": {},
   "source": [
    "## How to convert a 1D array into a 2D array (how to add a new axis to an array) #"
   ]
  },
  {
   "cell_type": "markdown",
   "id": "c51a1a5b",
   "metadata": {},
   "source": [
    "This section covers np.newaxis , np.expand_dims"
   ]
  },
  {
   "cell_type": "markdown",
   "id": "d80c0c0f",
   "metadata": {},
   "source": [
    "You can use np.newaxis and np.expand_dims to increase the dimensions of\n",
    "your existing array."
   ]
  },
  {
   "cell_type": "markdown",
   "id": "28a6e6fa",
   "metadata": {},
   "source": [
    "Using np.newaxis will increase the dimensions of your array by one dimension\n",
    "when used once. This means that a 1D array will become a 2D array, a 2D array will become a 3D array, and so on."
   ]
  },
  {
   "cell_type": "markdown",
   "id": "f6164e78",
   "metadata": {},
   "source": [
    "For example, if you start with this array:"
   ]
  },
  {
   "cell_type": "code",
   "execution_count": 48,
   "id": "14c7fbd1",
   "metadata": {},
   "outputs": [],
   "source": [
    "a = np.array([1, 2, 3, 4, 5, 6])"
   ]
  },
  {
   "cell_type": "code",
   "execution_count": 49,
   "id": "28b87a1f",
   "metadata": {},
   "outputs": [
    {
     "data": {
      "text/plain": [
       "(6,)"
      ]
     },
     "execution_count": 49,
     "metadata": {},
     "output_type": "execute_result"
    }
   ],
   "source": [
    "a.shape"
   ]
  },
  {
   "cell_type": "markdown",
   "id": "c6d4175a",
   "metadata": {},
   "source": [
    "You can use np.newaxis to add a new axis:"
   ]
  },
  {
   "cell_type": "code",
   "execution_count": 50,
   "id": "3e8a15dd",
   "metadata": {},
   "outputs": [],
   "source": [
    "a2 = a[np.newaxis, :]"
   ]
  },
  {
   "cell_type": "code",
   "execution_count": 51,
   "id": "059219f5",
   "metadata": {},
   "outputs": [
    {
     "data": {
      "text/plain": [
       "(1, 6)"
      ]
     },
     "execution_count": 51,
     "metadata": {},
     "output_type": "execute_result"
    }
   ],
   "source": [
    "a2.shape"
   ]
  },
  {
   "cell_type": "markdown",
   "id": "5c8b1f11",
   "metadata": {},
   "source": [
    "You can explicitly convert a 1D array to either a row vector or a column\n",
    "vector using np.newaxis . For example, you can convert a 1D array to a row\n",
    "vector by inserting an axis along the first dimension:"
   ]
  },
  {
   "cell_type": "code",
   "execution_count": 52,
   "id": "d08222bd",
   "metadata": {},
   "outputs": [],
   "source": [
    "row_vector = a[np.newaxis, :]"
   ]
  },
  {
   "cell_type": "code",
   "execution_count": 53,
   "id": "2932e659",
   "metadata": {},
   "outputs": [
    {
     "data": {
      "text/plain": [
       "(1, 6)"
      ]
     },
     "execution_count": 53,
     "metadata": {},
     "output_type": "execute_result"
    }
   ],
   "source": [
    "row_vector.shape"
   ]
  },
  {
   "cell_type": "markdown",
   "id": "8f432c00",
   "metadata": {},
   "source": [
    "Or, for a column vector, you can insert an axis along the second dimension:"
   ]
  },
  {
   "cell_type": "code",
   "execution_count": 54,
   "id": "5840a529",
   "metadata": {},
   "outputs": [],
   "source": [
    "col_vector = a[:, np.newaxis]"
   ]
  },
  {
   "cell_type": "code",
   "execution_count": 55,
   "id": "06ab6586",
   "metadata": {},
   "outputs": [
    {
     "data": {
      "text/plain": [
       "(6, 1)"
      ]
     },
     "execution_count": 55,
     "metadata": {},
     "output_type": "execute_result"
    }
   ],
   "source": [
    "col_vector.shape"
   ]
  },
  {
   "cell_type": "markdown",
   "id": "c298f393",
   "metadata": {},
   "source": [
    "You can also expand an array by inserting a new axis at a specified position\n",
    "with np.expand_dims ."
   ]
  },
  {
   "cell_type": "markdown",
   "id": "16ce4844",
   "metadata": {},
   "source": [
    "For example, if you start with this array:"
   ]
  },
  {
   "cell_type": "markdown",
   "id": "d4eede0a",
   "metadata": {},
   "source": [
    "You can use np.expand_dims to add an axis at index position 1 with:"
   ]
  },
  {
   "cell_type": "code",
   "execution_count": 56,
   "id": "0494844b",
   "metadata": {},
   "outputs": [],
   "source": [
    "b = np.expand_dims(a, axis=1)"
   ]
  },
  {
   "cell_type": "code",
   "execution_count": 57,
   "id": "b8846f61",
   "metadata": {},
   "outputs": [
    {
     "data": {
      "text/plain": [
       "(6, 1)"
      ]
     },
     "execution_count": 57,
     "metadata": {},
     "output_type": "execute_result"
    }
   ],
   "source": [
    "b.shape"
   ]
  },
  {
   "cell_type": "markdown",
   "id": "89edf360",
   "metadata": {},
   "source": [
    "You can add an axis at index position 0 with:"
   ]
  },
  {
   "cell_type": "code",
   "execution_count": 58,
   "id": "bef36128",
   "metadata": {},
   "outputs": [],
   "source": [
    "c = np.expand_dims(a, axis=0)"
   ]
  },
  {
   "cell_type": "code",
   "execution_count": 59,
   "id": "cceb6bd7",
   "metadata": {},
   "outputs": [
    {
     "data": {
      "text/plain": [
       "(1, 6)"
      ]
     },
     "execution_count": 59,
     "metadata": {},
     "output_type": "execute_result"
    }
   ],
   "source": [
    "c.shape"
   ]
  },
  {
   "cell_type": "markdown",
   "id": "3cf60f09",
   "metadata": {},
   "source": [
    "## Indexing and slicing #"
   ]
  },
  {
   "cell_type": "markdown",
   "id": "fe4ea40e",
   "metadata": {},
   "source": [
    "You can index and slice NumPy arrays in the same ways you can slice Python\n",
    "lists."
   ]
  },
  {
   "cell_type": "code",
   "execution_count": 60,
   "id": "d16d15a2",
   "metadata": {},
   "outputs": [],
   "source": [
    "data = np.array([1, 2, 3])"
   ]
  },
  {
   "cell_type": "code",
   "execution_count": 61,
   "id": "bf197ae7",
   "metadata": {},
   "outputs": [
    {
     "data": {
      "text/plain": [
       "np.int64(2)"
      ]
     },
     "execution_count": 61,
     "metadata": {},
     "output_type": "execute_result"
    }
   ],
   "source": [
    "data[1]"
   ]
  },
  {
   "cell_type": "code",
   "execution_count": 62,
   "id": "ecd9c8f4",
   "metadata": {},
   "outputs": [
    {
     "data": {
      "text/plain": [
       "array([1, 2])"
      ]
     },
     "execution_count": 62,
     "metadata": {},
     "output_type": "execute_result"
    }
   ],
   "source": [
    "data[0:2]"
   ]
  },
  {
   "cell_type": "code",
   "execution_count": 63,
   "id": "dee4c397",
   "metadata": {},
   "outputs": [
    {
     "data": {
      "text/plain": [
       "array([2, 3])"
      ]
     },
     "execution_count": 63,
     "metadata": {},
     "output_type": "execute_result"
    }
   ],
   "source": [
    "data[1:]"
   ]
  },
  {
   "cell_type": "code",
   "execution_count": 64,
   "id": "7cba3370",
   "metadata": {},
   "outputs": [
    {
     "data": {
      "text/plain": [
       "array([2, 3])"
      ]
     },
     "execution_count": 64,
     "metadata": {},
     "output_type": "execute_result"
    }
   ],
   "source": [
    "data[-2:]"
   ]
  },
  {
   "cell_type": "markdown",
   "id": "288a112a",
   "metadata": {},
   "source": [
    "You can visualize it this way:"
   ]
  },
  {
   "cell_type": "markdown",
   "id": "cb6858bb",
   "metadata": {},
   "source": [
    "![../_images/np_indexing.png](img/np_indexing.png)"
   ]
  },
  {
   "cell_type": "markdown",
   "id": "f5fdb189",
   "metadata": {},
   "source": [
    "You may want to take a section of your array or specific array elements to use\n",
    "in further analysis or additional operations. To do that, you’ll need to subset,\n",
    "slice, and/or index your arrays."
   ]
  },
  {
   "cell_type": "markdown",
   "id": "f33631da",
   "metadata": {},
   "source": [
    "If you want to select values from your array that fulfill certain conditions,\n",
    "it’s straightforward with NumPy."
   ]
  },
  {
   "cell_type": "markdown",
   "id": "9970b709",
   "metadata": {},
   "source": [
    "For example, if you start with this array:"
   ]
  },
  {
   "cell_type": "code",
   "execution_count": 65,
   "id": "5bced698",
   "metadata": {},
   "outputs": [],
   "source": [
    "a = np.array([[1, 2, 3, 4], [5, 6, 7, 8], [9, 10, 11, 12]])"
   ]
  },
  {
   "cell_type": "markdown",
   "id": "7d2ddd56",
   "metadata": {},
   "source": [
    "You can easily print all of the values in the array that are less than 5."
   ]
  },
  {
   "cell_type": "code",
   "execution_count": 66,
   "id": "7e5ad616",
   "metadata": {},
   "outputs": [
    {
     "name": "stdout",
     "output_type": "stream",
     "text": [
      "[1 2 3 4]\n"
     ]
    }
   ],
   "source": [
    "print(a[a < 5])"
   ]
  },
  {
   "cell_type": "markdown",
   "id": "6b35a5e0",
   "metadata": {},
   "source": [
    "You can also select, for example, numbers that are equal to or greater than 5,\n",
    "and use that condition to index an array."
   ]
  },
  {
   "cell_type": "code",
   "execution_count": 67,
   "id": "7b8bea7f",
   "metadata": {},
   "outputs": [],
   "source": [
    "five_up = (a >= 5)"
   ]
  },
  {
   "cell_type": "code",
   "execution_count": 68,
   "id": "c8ff0cc4",
   "metadata": {},
   "outputs": [
    {
     "name": "stdout",
     "output_type": "stream",
     "text": [
      "[ 5  6  7  8  9 10 11 12]\n"
     ]
    }
   ],
   "source": [
    "print(a[five_up])"
   ]
  },
  {
   "cell_type": "markdown",
   "id": "5a5cada2",
   "metadata": {},
   "source": [
    "You can select elements that are divisible by 2:"
   ]
  },
  {
   "cell_type": "code",
   "execution_count": 69,
   "id": "742c9386",
   "metadata": {},
   "outputs": [],
   "source": [
    "divisible_by_2 = a[a%2==0]"
   ]
  },
  {
   "cell_type": "code",
   "execution_count": 70,
   "id": "dbc424a3",
   "metadata": {},
   "outputs": [
    {
     "name": "stdout",
     "output_type": "stream",
     "text": [
      "[ 2  4  6  8 10 12]\n"
     ]
    }
   ],
   "source": [
    "print(divisible_by_2)"
   ]
  },
  {
   "cell_type": "markdown",
   "id": "d5252459",
   "metadata": {},
   "source": [
    "Or you can select elements that satisfy two conditions using the & and | operators:"
   ]
  },
  {
   "cell_type": "code",
   "execution_count": 71,
   "id": "24690799",
   "metadata": {},
   "outputs": [],
   "source": [
    "c = a[(a > 2) & (a < 11)]"
   ]
  },
  {
   "cell_type": "code",
   "execution_count": 72,
   "id": "35c7b191",
   "metadata": {},
   "outputs": [
    {
     "name": "stdout",
     "output_type": "stream",
     "text": [
      "[ 3  4  5  6  7  8  9 10]\n"
     ]
    }
   ],
   "source": [
    "print(c)"
   ]
  },
  {
   "cell_type": "markdown",
   "id": "652ff8b8",
   "metadata": {},
   "source": [
    "You can also make use of the logical operators & and | in order to\n",
    "return boolean values that specify whether or not the values in an array fulfill\n",
    "a certain condition. This can be useful with arrays that contain names or other\n",
    "categorical values."
   ]
  },
  {
   "cell_type": "code",
   "execution_count": 73,
   "id": "64bf06e4",
   "metadata": {},
   "outputs": [],
   "source": [
    "five_up = (a > 5) | (a == 5)"
   ]
  },
  {
   "cell_type": "code",
   "execution_count": 74,
   "id": "906ef91a",
   "metadata": {},
   "outputs": [
    {
     "name": "stdout",
     "output_type": "stream",
     "text": [
      "[[False False False False]\n",
      " [ True  True  True  True]\n",
      " [ True  True  True  True]]\n"
     ]
    }
   ],
   "source": [
    "print(five_up)"
   ]
  },
  {
   "cell_type": "markdown",
   "id": "bf60f19c",
   "metadata": {},
   "source": [
    "You can also use np.nonzero() to select elements or indices from an array."
   ]
  },
  {
   "cell_type": "markdown",
   "id": "8457fb8d",
   "metadata": {},
   "source": [
    "Starting with this array:"
   ]
  },
  {
   "cell_type": "markdown",
   "id": "5ce247c1",
   "metadata": {},
   "source": [
    "You can use np.nonzero() to print the indices of elements that are, for\n",
    "example, less than 5:"
   ]
  },
  {
   "cell_type": "code",
   "execution_count": 75,
   "id": "0f001edd",
   "metadata": {},
   "outputs": [],
   "source": [
    "b = np.nonzero(a < 5)"
   ]
  },
  {
   "cell_type": "code",
   "execution_count": 76,
   "id": "03a5123f",
   "metadata": {},
   "outputs": [
    {
     "name": "stdout",
     "output_type": "stream",
     "text": [
      "(array([0, 0, 0, 0]), array([0, 1, 2, 3]))\n"
     ]
    }
   ],
   "source": [
    "print(b)"
   ]
  },
  {
   "cell_type": "markdown",
   "id": "4c0186c2",
   "metadata": {},
   "source": [
    "In this example, a tuple of arrays was returned: one for each dimension. The\n",
    "first array represents the row indices where these values are found, and the\n",
    "second array represents the column indices where the values are found."
   ]
  },
  {
   "cell_type": "markdown",
   "id": "78bdc5a8",
   "metadata": {},
   "source": [
    "If you want to generate a list of coordinates where the elements exist, you can\n",
    "zip the arrays, iterate over the list of coordinates, and print them. For\n",
    "example:"
   ]
  },
  {
   "cell_type": "code",
   "execution_count": 77,
   "id": "eabac03b",
   "metadata": {},
   "outputs": [],
   "source": [
    "list_of_coordinates= list(zip(b[0], b[1]))"
   ]
  },
  {
   "cell_type": "code",
   "execution_count": 78,
   "id": "bc6a58bd",
   "metadata": {},
   "outputs": [
    {
     "name": "stdout",
     "output_type": "stream",
     "text": [
      "(np.int64(0), np.int64(0))\n",
      "(np.int64(0), np.int64(1))\n",
      "(np.int64(0), np.int64(2))\n",
      "(np.int64(0), np.int64(3))\n"
     ]
    }
   ],
   "source": [
    "for coord in list_of_coordinates:\n",
    "    print(coord)"
   ]
  },
  {
   "cell_type": "markdown",
   "id": "ab9549ae",
   "metadata": {},
   "source": [
    "You can also use np.nonzero() to print the elements in an array that are less\n",
    "than 5 with:"
   ]
  },
  {
   "cell_type": "code",
   "execution_count": 79,
   "id": "a0bf70f4",
   "metadata": {},
   "outputs": [
    {
     "name": "stdout",
     "output_type": "stream",
     "text": [
      "[1 2 3 4]\n"
     ]
    }
   ],
   "source": [
    "print(a[b])"
   ]
  },
  {
   "cell_type": "markdown",
   "id": "a414dac1",
   "metadata": {},
   "source": [
    "If the element you’re looking for doesn’t exist in the array, then the returned\n",
    "array of indices will be empty. For example:"
   ]
  },
  {
   "cell_type": "code",
   "execution_count": 80,
   "id": "6f62aac8",
   "metadata": {},
   "outputs": [],
   "source": [
    "not_there = np.nonzero(a == 42)"
   ]
  },
  {
   "cell_type": "code",
   "execution_count": 81,
   "id": "82fe9f21",
   "metadata": {},
   "outputs": [
    {
     "name": "stdout",
     "output_type": "stream",
     "text": [
      "(array([], dtype=int64), array([], dtype=int64))\n"
     ]
    }
   ],
   "source": [
    "print(not_there)"
   ]
  },
  {
   "cell_type": "markdown",
   "id": "fa9c2ab3",
   "metadata": {},
   "source": [
    "Learn more about indexing and slicing here and here ."
   ]
  },
  {
   "cell_type": "markdown",
   "id": "b3cb4018",
   "metadata": {},
   "source": [
    "Read more about using the nonzero function at: nonzero ."
   ]
  },
  {
   "cell_type": "markdown",
   "id": "27f1138e",
   "metadata": {},
   "source": [
    "## How to create an array from existing data #"
   ]
  },
  {
   "cell_type": "markdown",
   "id": "84e795db",
   "metadata": {},
   "source": [
    "This section covers slicing and indexing , np.vstack() , np.hstack() , np.hsplit() , .view() , copy()"
   ]
  },
  {
   "cell_type": "markdown",
   "id": "152d963f",
   "metadata": {},
   "source": [
    "You can easily create a new array from a section of an existing array."
   ]
  },
  {
   "cell_type": "markdown",
   "id": "0e7d0485",
   "metadata": {},
   "source": [
    "Let’s say you have this array:"
   ]
  },
  {
   "cell_type": "code",
   "execution_count": 82,
   "id": "39e4c5af",
   "metadata": {},
   "outputs": [],
   "source": [
    "a = np.array([1,  2,  3,  4,  5,  6,  7,  8,  9, 10])"
   ]
  },
  {
   "cell_type": "markdown",
   "id": "2704ad9c",
   "metadata": {},
   "source": [
    "You can create a new array from a section of your array any time by specifying\n",
    "where you want to slice your array."
   ]
  },
  {
   "cell_type": "code",
   "execution_count": 83,
   "id": "398c045c",
   "metadata": {},
   "outputs": [],
   "source": [
    "arr1 = a[3:8]"
   ]
  },
  {
   "cell_type": "code",
   "execution_count": 84,
   "id": "2182ef70",
   "metadata": {},
   "outputs": [
    {
     "data": {
      "text/plain": [
       "array([4, 5, 6, 7, 8])"
      ]
     },
     "execution_count": 84,
     "metadata": {},
     "output_type": "execute_result"
    }
   ],
   "source": [
    "arr1"
   ]
  },
  {
   "cell_type": "markdown",
   "id": "f649285c",
   "metadata": {},
   "source": [
    "Here, you grabbed a section of your array from index position 3 through index\n",
    "position 8 but not including position 8 itself."
   ]
  },
  {
   "cell_type": "markdown",
   "id": "38a2da7e",
   "metadata": {},
   "source": [
    "Reminder: Array indexes begin at 0. This means the first element of the array is at index 0,\n",
    "the second element is at index 1, and so on."
   ]
  },
  {
   "cell_type": "markdown",
   "id": "43060938",
   "metadata": {},
   "source": [
    "You can also stack two existing arrays, both vertically and horizontally. Let’s\n",
    "say you have two arrays, a1 and a2 :"
   ]
  },
  {
   "cell_type": "code",
   "execution_count": 85,
   "id": "b65b5ede",
   "metadata": {},
   "outputs": [],
   "source": [
    "a1 = np.array([[1, 1],\n",
    "               [2, 2]])"
   ]
  },
  {
   "cell_type": "code",
   "execution_count": 86,
   "id": "285614c6",
   "metadata": {},
   "outputs": [],
   "source": [
    "a2 = np.array([[3, 3],\n",
    "               [4, 4]])"
   ]
  },
  {
   "cell_type": "markdown",
   "id": "5bc9550a",
   "metadata": {},
   "source": [
    "You can stack them vertically with vstack :"
   ]
  },
  {
   "cell_type": "code",
   "execution_count": 87,
   "id": "56d2fcb0",
   "metadata": {},
   "outputs": [
    {
     "data": {
      "text/plain": [
       "array([[1, 1],\n",
       "       [2, 2],\n",
       "       [3, 3],\n",
       "       [4, 4]])"
      ]
     },
     "execution_count": 87,
     "metadata": {},
     "output_type": "execute_result"
    }
   ],
   "source": [
    "np.vstack((a1, a2))"
   ]
  },
  {
   "cell_type": "markdown",
   "id": "41963c86",
   "metadata": {},
   "source": [
    "Or stack them horizontally with hstack :"
   ]
  },
  {
   "cell_type": "code",
   "execution_count": 88,
   "id": "d0d65cd8",
   "metadata": {},
   "outputs": [
    {
     "data": {
      "text/plain": [
       "array([[1, 1, 3, 3],\n",
       "       [2, 2, 4, 4]])"
      ]
     },
     "execution_count": 88,
     "metadata": {},
     "output_type": "execute_result"
    }
   ],
   "source": [
    "np.hstack((a1, a2))"
   ]
  },
  {
   "cell_type": "markdown",
   "id": "cde8dd47",
   "metadata": {},
   "source": [
    "You can split an array into several smaller arrays using hsplit . You can\n",
    "specify either the number of equally shaped arrays to return or the columns after which the division should occur."
   ]
  },
  {
   "cell_type": "markdown",
   "id": "811d7d2d",
   "metadata": {},
   "source": [
    "Let’s say you have this array:"
   ]
  },
  {
   "cell_type": "code",
   "execution_count": 89,
   "id": "954a3be2",
   "metadata": {},
   "outputs": [],
   "source": [
    "x = np.arange(1, 25).reshape(2, 12)"
   ]
  },
  {
   "cell_type": "code",
   "execution_count": 90,
   "id": "16d41318",
   "metadata": {},
   "outputs": [
    {
     "data": {
      "text/plain": [
       "array([[ 1,  2,  3,  4,  5,  6,  7,  8,  9, 10, 11, 12],\n",
       "       [13, 14, 15, 16, 17, 18, 19, 20, 21, 22, 23, 24]])"
      ]
     },
     "execution_count": 90,
     "metadata": {},
     "output_type": "execute_result"
    }
   ],
   "source": [
    "x"
   ]
  },
  {
   "cell_type": "markdown",
   "id": "eee50700",
   "metadata": {},
   "source": [
    "If you wanted to split this array into three equally shaped arrays, you would\n",
    "run:"
   ]
  },
  {
   "cell_type": "code",
   "execution_count": 91,
   "id": "c4d5620f",
   "metadata": {},
   "outputs": [
    {
     "data": {
      "text/plain": [
       "[array([[ 1,  2,  3,  4],\n",
       "        [13, 14, 15, 16]]),\n",
       " array([[ 5,  6,  7,  8],\n",
       "        [17, 18, 19, 20]]),\n",
       " array([[ 9, 10, 11, 12],\n",
       "        [21, 22, 23, 24]])]"
      ]
     },
     "execution_count": 91,
     "metadata": {},
     "output_type": "execute_result"
    }
   ],
   "source": [
    "np.hsplit(x, 3)"
   ]
  },
  {
   "cell_type": "markdown",
   "id": "95e07972",
   "metadata": {},
   "source": [
    "If you wanted to split your array after the third and fourth column, you’d run:"
   ]
  },
  {
   "cell_type": "code",
   "execution_count": 92,
   "id": "11f81dce",
   "metadata": {},
   "outputs": [
    {
     "data": {
      "text/plain": [
       "[array([[ 1,  2,  3],\n",
       "        [13, 14, 15]]),\n",
       " array([[ 4],\n",
       "        [16]]),\n",
       " array([[ 5,  6,  7,  8,  9, 10, 11, 12],\n",
       "        [17, 18, 19, 20, 21, 22, 23, 24]])]"
      ]
     },
     "execution_count": 92,
     "metadata": {},
     "output_type": "execute_result"
    }
   ],
   "source": [
    "np.hsplit(x, (3, 4))"
   ]
  },
  {
   "cell_type": "markdown",
   "id": "a4bb0db1",
   "metadata": {},
   "source": [
    "Learn more about stacking and splitting arrays here ."
   ]
  },
  {
   "cell_type": "markdown",
   "id": "717ff4de",
   "metadata": {},
   "source": [
    "You can use the view method to create a new array object that looks at the\n",
    "same data as the original array (a shallow copy )."
   ]
  },
  {
   "cell_type": "markdown",
   "id": "395b8047",
   "metadata": {},
   "source": [
    "Views are an important NumPy concept! NumPy functions, as well as operations\n",
    "like indexing and slicing, will return views whenever possible. This saves\n",
    "memory and is faster (no copy of the data has to be made). However it’s\n",
    "important to be aware of this - modifying data in a view also modifies the\n",
    "original array!"
   ]
  },
  {
   "cell_type": "markdown",
   "id": "9b566ed7",
   "metadata": {},
   "source": [
    "Let’s say you create this array:"
   ]
  },
  {
   "cell_type": "code",
   "execution_count": 93,
   "id": "a62bab5c-1030-4b2c-a1b5-ba9444787518",
   "metadata": {},
   "outputs": [],
   "source": [
    "a = np.array([[1, 2, 3, 4], [5, 6, 7, 8], [9, 10, 11, 12]])"
   ]
  },
  {
   "cell_type": "markdown",
   "id": "af69348d",
   "metadata": {},
   "source": [
    "Now we create an array b1 by slicing a and modify the first element of b1 . This will modify the corresponding element in a as well!"
   ]
  },
  {
   "cell_type": "code",
   "execution_count": 94,
   "id": "47931e47",
   "metadata": {},
   "outputs": [],
   "source": [
    "b1 = a[0, :]"
   ]
  },
  {
   "cell_type": "code",
   "execution_count": 95,
   "id": "5ea1a5bc",
   "metadata": {},
   "outputs": [
    {
     "data": {
      "text/plain": [
       "array([1, 2, 3, 4])"
      ]
     },
     "execution_count": 95,
     "metadata": {},
     "output_type": "execute_result"
    }
   ],
   "source": [
    "b1"
   ]
  },
  {
   "cell_type": "code",
   "execution_count": 96,
   "id": "98e28baa",
   "metadata": {},
   "outputs": [],
   "source": [
    "b1[0] = 99"
   ]
  },
  {
   "cell_type": "code",
   "execution_count": 97,
   "id": "f3e958a3",
   "metadata": {},
   "outputs": [
    {
     "data": {
      "text/plain": [
       "array([99,  2,  3,  4])"
      ]
     },
     "execution_count": 97,
     "metadata": {},
     "output_type": "execute_result"
    }
   ],
   "source": [
    "b1"
   ]
  },
  {
   "cell_type": "code",
   "execution_count": 98,
   "id": "f8fb3dfc",
   "metadata": {},
   "outputs": [
    {
     "data": {
      "text/plain": [
       "array([[99,  2,  3,  4],\n",
       "       [ 5,  6,  7,  8],\n",
       "       [ 9, 10, 11, 12]])"
      ]
     },
     "execution_count": 98,
     "metadata": {},
     "output_type": "execute_result"
    }
   ],
   "source": [
    "a"
   ]
  },
  {
   "cell_type": "markdown",
   "id": "3ce10468",
   "metadata": {},
   "source": [
    "Using the copy method will make a complete copy of the array and its data (a deep copy ). To use this on your array, you could run:"
   ]
  },
  {
   "cell_type": "code",
   "execution_count": 99,
   "id": "2815a07b",
   "metadata": {},
   "outputs": [],
   "source": [
    "b2 = a.copy()"
   ]
  },
  {
   "cell_type": "markdown",
   "id": "9ef5dcb2",
   "metadata": {},
   "source": [
    "Learn more about copies and views here ."
   ]
  },
  {
   "cell_type": "markdown",
   "id": "d3a6f494",
   "metadata": {},
   "source": [
    "## Basic array operations #"
   ]
  },
  {
   "cell_type": "markdown",
   "id": "3253b5d7",
   "metadata": {},
   "source": [
    "This section covers addition, subtraction, multiplication, division, and more"
   ]
  },
  {
   "cell_type": "markdown",
   "id": "6fce418f",
   "metadata": {},
   "source": [
    "Once you’ve created your arrays, you can start to work with them.  Let’s say,\n",
    "for example, that you’ve created two arrays, one called “data” and one called\n",
    "“ones”"
   ]
  },
  {
   "cell_type": "markdown",
   "id": "dbeef7d0",
   "metadata": {},
   "source": [
    "![../_images/np_array_dataones.png](img/np_array_dataones.png)"
   ]
  },
  {
   "cell_type": "markdown",
   "id": "d2e74470",
   "metadata": {},
   "source": [
    "You can add the arrays together with the plus sign."
   ]
  },
  {
   "cell_type": "code",
   "execution_count": 100,
   "id": "07167d35",
   "metadata": {},
   "outputs": [],
   "source": [
    "data = np.array([1, 2])"
   ]
  },
  {
   "cell_type": "code",
   "execution_count": 101,
   "id": "b5cadc6f",
   "metadata": {},
   "outputs": [],
   "source": [
    "ones = np.ones(2, dtype=int)"
   ]
  },
  {
   "cell_type": "code",
   "execution_count": 102,
   "id": "e136400b",
   "metadata": {},
   "outputs": [
    {
     "data": {
      "text/plain": [
       "array([2, 3])"
      ]
     },
     "execution_count": 102,
     "metadata": {},
     "output_type": "execute_result"
    }
   ],
   "source": [
    "data + ones"
   ]
  },
  {
   "cell_type": "markdown",
   "id": "7d57eaff",
   "metadata": {},
   "source": [
    "![../_images/np_data_plus_ones.png](img/np_data_plus_ones.png)"
   ]
  },
  {
   "cell_type": "markdown",
   "id": "21c2c393",
   "metadata": {},
   "source": [
    "You can, of course, do more than just addition!"
   ]
  },
  {
   "cell_type": "code",
   "execution_count": 103,
   "id": "dec1d60e",
   "metadata": {},
   "outputs": [
    {
     "data": {
      "text/plain": [
       "array([0, 1])"
      ]
     },
     "execution_count": 103,
     "metadata": {},
     "output_type": "execute_result"
    }
   ],
   "source": [
    "data - ones"
   ]
  },
  {
   "cell_type": "code",
   "execution_count": 104,
   "id": "da0e00cd",
   "metadata": {},
   "outputs": [
    {
     "data": {
      "text/plain": [
       "array([1, 4])"
      ]
     },
     "execution_count": 104,
     "metadata": {},
     "output_type": "execute_result"
    }
   ],
   "source": [
    "data * data"
   ]
  },
  {
   "cell_type": "code",
   "execution_count": 105,
   "id": "97524716",
   "metadata": {},
   "outputs": [
    {
     "data": {
      "text/plain": [
       "array([1., 1.])"
      ]
     },
     "execution_count": 105,
     "metadata": {},
     "output_type": "execute_result"
    }
   ],
   "source": [
    "data / data"
   ]
  },
  {
   "cell_type": "markdown",
   "id": "5d1eb588",
   "metadata": {},
   "source": [
    "![../_images/np_sub_mult_divide.png](img/np_sub_mult_divide.png)"
   ]
  },
  {
   "cell_type": "markdown",
   "id": "b5b90f37",
   "metadata": {},
   "source": [
    "Basic operations are simple with NumPy. If you want to find the sum of the\n",
    "elements in an array, you’d use sum() . This works for 1D arrays, 2D arrays,\n",
    "and arrays in higher dimensions."
   ]
  },
  {
   "cell_type": "code",
   "execution_count": 106,
   "id": "99fa1529",
   "metadata": {},
   "outputs": [],
   "source": [
    "a = np.array([1, 2, 3, 4])"
   ]
  },
  {
   "cell_type": "code",
   "execution_count": 107,
   "id": "8bae7d8f",
   "metadata": {},
   "outputs": [
    {
     "data": {
      "text/plain": [
       "np.int64(10)"
      ]
     },
     "execution_count": 107,
     "metadata": {},
     "output_type": "execute_result"
    }
   ],
   "source": [
    "a.sum()"
   ]
  },
  {
   "cell_type": "markdown",
   "id": "aaee0cf2",
   "metadata": {},
   "source": [
    "To add the rows or the columns in a 2D array, you would specify the axis."
   ]
  },
  {
   "cell_type": "markdown",
   "id": "5a675241",
   "metadata": {},
   "source": [
    "If you start with this array:"
   ]
  },
  {
   "cell_type": "code",
   "execution_count": 108,
   "id": "e3ee6a66",
   "metadata": {},
   "outputs": [],
   "source": [
    "b = np.array([[1, 1], [2, 2]])"
   ]
  },
  {
   "cell_type": "markdown",
   "id": "138d3afd",
   "metadata": {},
   "source": [
    "You can sum over the axis of rows with:"
   ]
  },
  {
   "cell_type": "code",
   "execution_count": 109,
   "id": "85f5684f",
   "metadata": {},
   "outputs": [
    {
     "data": {
      "text/plain": [
       "array([3, 3])"
      ]
     },
     "execution_count": 109,
     "metadata": {},
     "output_type": "execute_result"
    }
   ],
   "source": [
    "b.sum(axis=0)"
   ]
  },
  {
   "cell_type": "markdown",
   "id": "3dc79dd0",
   "metadata": {},
   "source": [
    "You can sum over the axis of columns with:"
   ]
  },
  {
   "cell_type": "code",
   "execution_count": 110,
   "id": "1868587b",
   "metadata": {},
   "outputs": [
    {
     "data": {
      "text/plain": [
       "array([2, 4])"
      ]
     },
     "execution_count": 110,
     "metadata": {},
     "output_type": "execute_result"
    }
   ],
   "source": [
    "b.sum(axis=1)"
   ]
  },
  {
   "cell_type": "markdown",
   "id": "42ac9366",
   "metadata": {},
   "source": [
    "## Broadcasting #"
   ]
  },
  {
   "cell_type": "markdown",
   "id": "61fb863a",
   "metadata": {},
   "source": [
    "There are times when you might want to carry out an operation between an array\n",
    "and a single number (also called an operation between a vector and a scalar )\n",
    "or between arrays of two different sizes. For example, your array (we’ll call it\n",
    "“data”) might contain information about distance in miles but you want to\n",
    "convert the information to kilometers. You can perform this operation with:"
   ]
  },
  {
   "cell_type": "code",
   "execution_count": 111,
   "id": "87c69656",
   "metadata": {},
   "outputs": [],
   "source": [
    "data = np.array([1.0, 2.0])"
   ]
  },
  {
   "cell_type": "code",
   "execution_count": 112,
   "id": "c58d9255",
   "metadata": {},
   "outputs": [
    {
     "data": {
      "text/plain": [
       "array([1.6, 3.2])"
      ]
     },
     "execution_count": 112,
     "metadata": {},
     "output_type": "execute_result"
    }
   ],
   "source": [
    "data * 1.6"
   ]
  },
  {
   "cell_type": "markdown",
   "id": "2f0bd33e",
   "metadata": {},
   "source": [
    "![../_images/np_multiply_broadcasting.png](img/np_multiply_broadcasting.png)"
   ]
  },
  {
   "cell_type": "markdown",
   "id": "26ede57d",
   "metadata": {},
   "source": [
    "NumPy understands that the multiplication should happen with each cell. That\n",
    "concept is called broadcasting . Broadcasting is a mechanism that allows\n",
    "NumPy to perform operations on arrays of different shapes. The dimensions of\n",
    "your array must be compatible, for example, when the dimensions of both arrays\n",
    "are equal or when one of them is 1. If the dimensions are not compatible, you\n",
    "will get a ValueError ."
   ]
  },
  {
   "cell_type": "markdown",
   "id": "5ecb96f4",
   "metadata": {},
   "source": [
    "## More useful array operations #"
   ]
  },
  {
   "cell_type": "markdown",
   "id": "a37c9fc5",
   "metadata": {},
   "source": [
    "This section covers maximum, minimum, sum, mean, product, standard deviation, and more"
   ]
  },
  {
   "cell_type": "markdown",
   "id": "42a84849",
   "metadata": {},
   "source": [
    "NumPy also performs aggregation functions. In addition to min , max , and sum , you can easily run mean to get the average, prod to get the\n",
    "result of multiplying the elements together, std to get the standard\n",
    "deviation, and more."
   ]
  },
  {
   "cell_type": "code",
   "execution_count": 113,
   "id": "f1195ad1",
   "metadata": {},
   "outputs": [
    {
     "data": {
      "text/plain": [
       "np.float64(2.0)"
      ]
     },
     "execution_count": 113,
     "metadata": {},
     "output_type": "execute_result"
    }
   ],
   "source": [
    "data.max()"
   ]
  },
  {
   "cell_type": "code",
   "execution_count": 114,
   "id": "3dba17a1",
   "metadata": {},
   "outputs": [
    {
     "data": {
      "text/plain": [
       "np.float64(1.0)"
      ]
     },
     "execution_count": 114,
     "metadata": {},
     "output_type": "execute_result"
    }
   ],
   "source": [
    "data.min()"
   ]
  },
  {
   "cell_type": "code",
   "execution_count": 115,
   "id": "04e632c5",
   "metadata": {},
   "outputs": [
    {
     "data": {
      "text/plain": [
       "np.float64(3.0)"
      ]
     },
     "execution_count": 115,
     "metadata": {},
     "output_type": "execute_result"
    }
   ],
   "source": [
    "data.sum()"
   ]
  },
  {
   "cell_type": "markdown",
   "id": "04040704",
   "metadata": {},
   "source": [
    "![../_images/np_aggregation.png](img/np_aggregation.png)"
   ]
  },
  {
   "cell_type": "markdown",
   "id": "c8591a8e",
   "metadata": {},
   "source": [
    "Let’s start with this array, called “a”"
   ]
  },
  {
   "cell_type": "code",
   "execution_count": 116,
   "id": "46f17261",
   "metadata": {},
   "outputs": [],
   "source": [
    "a = np.array([[0.45053314, 0.17296777, 0.34376245, 0.5510652],\n",
    "              [0.54627315, 0.05093587, 0.40067661, 0.55645993],\n",
    "              [0.12697628, 0.82485143, 0.26590556, 0.56917101]])"
   ]
  },
  {
   "cell_type": "markdown",
   "id": "65202898",
   "metadata": {},
   "source": [
    "It’s very common to want to aggregate along a row or column. By default, every\n",
    "NumPy aggregation function will return the aggregate of the entire array. To\n",
    "find the sum or the minimum of the elements in your array, run:"
   ]
  },
  {
   "cell_type": "code",
   "execution_count": 117,
   "id": "879b9528",
   "metadata": {},
   "outputs": [
    {
     "data": {
      "text/plain": [
       "np.float64(4.8595784)"
      ]
     },
     "execution_count": 117,
     "metadata": {},
     "output_type": "execute_result"
    }
   ],
   "source": [
    "a.sum()"
   ]
  },
  {
   "cell_type": "markdown",
   "id": "d96b2bc5",
   "metadata": {},
   "source": [
    "Or:"
   ]
  },
  {
   "cell_type": "code",
   "execution_count": 118,
   "id": "d4816ee2",
   "metadata": {},
   "outputs": [
    {
     "data": {
      "text/plain": [
       "np.float64(0.05093587)"
      ]
     },
     "execution_count": 118,
     "metadata": {},
     "output_type": "execute_result"
    }
   ],
   "source": [
    "a.min()"
   ]
  },
  {
   "cell_type": "markdown",
   "id": "b9164703",
   "metadata": {},
   "source": [
    "You can specify on which axis you want the aggregation function to be computed.\n",
    "For example, you can find the minimum value within each column by specifying axis=0 ."
   ]
  },
  {
   "cell_type": "code",
   "execution_count": 119,
   "id": "e0775fbc",
   "metadata": {},
   "outputs": [
    {
     "data": {
      "text/plain": [
       "array([0.12697628, 0.05093587, 0.26590556, 0.5510652 ])"
      ]
     },
     "execution_count": 119,
     "metadata": {},
     "output_type": "execute_result"
    }
   ],
   "source": [
    "a.min(axis=0)"
   ]
  },
  {
   "cell_type": "markdown",
   "id": "fd675d1b",
   "metadata": {},
   "source": [
    "The four values listed above correspond to the number of columns in your array.\n",
    "With a four-column array, you will get four values as your result."
   ]
  },
  {
   "cell_type": "markdown",
   "id": "d27b4528",
   "metadata": {},
   "source": [
    "## Creating matrices #"
   ]
  },
  {
   "cell_type": "markdown",
   "id": "bec76e57",
   "metadata": {},
   "source": [
    "You can pass Python lists of lists to create a 2-D array (or “matrix”) to\n",
    "represent them in NumPy."
   ]
  },
  {
   "cell_type": "code",
   "execution_count": 120,
   "id": "b6671d7d",
   "metadata": {},
   "outputs": [],
   "source": [
    "data = np.array([[1, 2], [3, 4], [5, 6]])"
   ]
  },
  {
   "cell_type": "code",
   "execution_count": 121,
   "id": "fe54ceb2",
   "metadata": {},
   "outputs": [
    {
     "data": {
      "text/plain": [
       "array([[1, 2],\n",
       "       [3, 4],\n",
       "       [5, 6]])"
      ]
     },
     "execution_count": 121,
     "metadata": {},
     "output_type": "execute_result"
    }
   ],
   "source": [
    "data"
   ]
  },
  {
   "cell_type": "markdown",
   "id": "772331ea",
   "metadata": {},
   "source": [
    "![../_images/np_create_matrix.png](img/np_create_matrix.png)"
   ]
  },
  {
   "cell_type": "markdown",
   "id": "fd399ac9",
   "metadata": {},
   "source": [
    "Indexing and slicing operations are useful when you’re manipulating matrices:"
   ]
  },
  {
   "cell_type": "code",
   "execution_count": 122,
   "id": "5b1af7a5",
   "metadata": {},
   "outputs": [
    {
     "data": {
      "text/plain": [
       "np.int64(2)"
      ]
     },
     "execution_count": 122,
     "metadata": {},
     "output_type": "execute_result"
    }
   ],
   "source": [
    "data[0, 1]"
   ]
  },
  {
   "cell_type": "code",
   "execution_count": 123,
   "id": "deaa3999",
   "metadata": {},
   "outputs": [
    {
     "data": {
      "text/plain": [
       "array([[3, 4],\n",
       "       [5, 6]])"
      ]
     },
     "execution_count": 123,
     "metadata": {},
     "output_type": "execute_result"
    }
   ],
   "source": [
    "data[1:3]"
   ]
  },
  {
   "cell_type": "code",
   "execution_count": 124,
   "id": "10994bf8",
   "metadata": {},
   "outputs": [
    {
     "data": {
      "text/plain": [
       "array([1, 3])"
      ]
     },
     "execution_count": 124,
     "metadata": {},
     "output_type": "execute_result"
    }
   ],
   "source": [
    "data[0:2, 0]"
   ]
  },
  {
   "cell_type": "markdown",
   "id": "bd651793",
   "metadata": {},
   "source": [
    "![../_images/np_matrix_indexing.png](img/np_matrix_indexing.png)"
   ]
  },
  {
   "cell_type": "markdown",
   "id": "db60539a",
   "metadata": {},
   "source": [
    "You can aggregate matrices the same way you aggregated vectors:"
   ]
  },
  {
   "cell_type": "code",
   "execution_count": 125,
   "id": "62ec3785",
   "metadata": {},
   "outputs": [
    {
     "data": {
      "text/plain": [
       "np.int64(6)"
      ]
     },
     "execution_count": 125,
     "metadata": {},
     "output_type": "execute_result"
    }
   ],
   "source": [
    "data.max()"
   ]
  },
  {
   "cell_type": "code",
   "execution_count": 126,
   "id": "4984e836",
   "metadata": {},
   "outputs": [
    {
     "data": {
      "text/plain": [
       "np.int64(1)"
      ]
     },
     "execution_count": 126,
     "metadata": {},
     "output_type": "execute_result"
    }
   ],
   "source": [
    "data.min()"
   ]
  },
  {
   "cell_type": "code",
   "execution_count": 127,
   "id": "3bfc62df",
   "metadata": {},
   "outputs": [
    {
     "data": {
      "text/plain": [
       "np.int64(21)"
      ]
     },
     "execution_count": 127,
     "metadata": {},
     "output_type": "execute_result"
    }
   ],
   "source": [
    "data.sum()"
   ]
  },
  {
   "cell_type": "markdown",
   "id": "e20aa331",
   "metadata": {},
   "source": [
    "![../_images/np_matrix_aggregation.png](img/np_matrix_aggregation.png)"
   ]
  },
  {
   "cell_type": "markdown",
   "id": "0fd0d6fb",
   "metadata": {},
   "source": [
    "You can aggregate all the values in a matrix and you can aggregate them across\n",
    "columns or rows using the axis parameter. To illustrate this point, let’s\n",
    "look at a slightly modified dataset:"
   ]
  },
  {
   "cell_type": "code",
   "execution_count": 128,
   "id": "e65eec80",
   "metadata": {},
   "outputs": [],
   "source": [
    "data = np.array([[1, 2], [5, 3], [4, 6]])"
   ]
  },
  {
   "cell_type": "code",
   "execution_count": 129,
   "id": "0a6b0ee0",
   "metadata": {},
   "outputs": [
    {
     "data": {
      "text/plain": [
       "array([[1, 2],\n",
       "       [5, 3],\n",
       "       [4, 6]])"
      ]
     },
     "execution_count": 129,
     "metadata": {},
     "output_type": "execute_result"
    }
   ],
   "source": [
    "data"
   ]
  },
  {
   "cell_type": "code",
   "execution_count": 130,
   "id": "52d6aa4d",
   "metadata": {},
   "outputs": [
    {
     "data": {
      "text/plain": [
       "array([5, 6])"
      ]
     },
     "execution_count": 130,
     "metadata": {},
     "output_type": "execute_result"
    }
   ],
   "source": [
    "data.max(axis=0)"
   ]
  },
  {
   "cell_type": "code",
   "execution_count": 131,
   "id": "0e29a90a",
   "metadata": {},
   "outputs": [
    {
     "data": {
      "text/plain": [
       "array([2, 5, 6])"
      ]
     },
     "execution_count": 131,
     "metadata": {},
     "output_type": "execute_result"
    }
   ],
   "source": [
    "data.max(axis=1)"
   ]
  },
  {
   "cell_type": "markdown",
   "id": "20c5278a",
   "metadata": {},
   "source": [
    "![../_images/np_matrix_aggregation_row.png](img/np_matrix_aggregation_row.png)"
   ]
  },
  {
   "cell_type": "markdown",
   "id": "6463a348",
   "metadata": {},
   "source": [
    "Once you’ve created your matrices, you can add and multiply them using\n",
    "arithmetic operators if you have two matrices that are the same size."
   ]
  },
  {
   "cell_type": "code",
   "execution_count": 132,
   "id": "9fd1356e",
   "metadata": {},
   "outputs": [],
   "source": [
    "data = np.array([[1, 2], [3, 4]])"
   ]
  },
  {
   "cell_type": "code",
   "execution_count": 133,
   "id": "8098bcfa",
   "metadata": {},
   "outputs": [],
   "source": [
    "ones = np.array([[1, 1], [1, 1]])"
   ]
  },
  {
   "cell_type": "code",
   "execution_count": 134,
   "id": "fa7ba84f",
   "metadata": {},
   "outputs": [
    {
     "data": {
      "text/plain": [
       "array([[2, 3],\n",
       "       [4, 5]])"
      ]
     },
     "execution_count": 134,
     "metadata": {},
     "output_type": "execute_result"
    }
   ],
   "source": [
    "data + ones"
   ]
  },
  {
   "cell_type": "markdown",
   "id": "2ada68b0",
   "metadata": {},
   "source": [
    "![../_images/np_matrix_arithmetic.png](img/np_matrix_arithmetic.png)"
   ]
  },
  {
   "cell_type": "markdown",
   "id": "03caf159",
   "metadata": {},
   "source": [
    "You can do these arithmetic operations on matrices of different sizes, but only\n",
    "if one matrix has only one column or one row. In this case, NumPy will use its\n",
    "broadcast rules for the operation."
   ]
  },
  {
   "cell_type": "code",
   "execution_count": 135,
   "id": "359e9017",
   "metadata": {},
   "outputs": [],
   "source": [
    "data = np.array([[1, 2], [3, 4], [5, 6]])"
   ]
  },
  {
   "cell_type": "code",
   "execution_count": 136,
   "id": "8ca96564",
   "metadata": {},
   "outputs": [],
   "source": [
    "ones_row = np.array([[1, 1]])"
   ]
  },
  {
   "cell_type": "code",
   "execution_count": 137,
   "id": "6cdb016b",
   "metadata": {},
   "outputs": [
    {
     "data": {
      "text/plain": [
       "array([[2, 3],\n",
       "       [4, 5],\n",
       "       [6, 7]])"
      ]
     },
     "execution_count": 137,
     "metadata": {},
     "output_type": "execute_result"
    }
   ],
   "source": [
    "data + ones_row"
   ]
  },
  {
   "cell_type": "markdown",
   "id": "d4fe3547",
   "metadata": {},
   "source": [
    "![../_images/np_matrix_broadcasting.png](img/np_matrix_broadcasting.png)"
   ]
  },
  {
   "cell_type": "markdown",
   "id": "8650e507",
   "metadata": {},
   "source": [
    "Be aware that when NumPy prints N-dimensional arrays, the last axis is looped\n",
    "over the fastest while the first axis is the slowest. For instance:"
   ]
  },
  {
   "cell_type": "code",
   "execution_count": 138,
   "id": "be234cc4",
   "metadata": {},
   "outputs": [
    {
     "data": {
      "text/plain": [
       "array([[[1., 1.],\n",
       "        [1., 1.],\n",
       "        [1., 1.]],\n",
       "\n",
       "       [[1., 1.],\n",
       "        [1., 1.],\n",
       "        [1., 1.]],\n",
       "\n",
       "       [[1., 1.],\n",
       "        [1., 1.],\n",
       "        [1., 1.]],\n",
       "\n",
       "       [[1., 1.],\n",
       "        [1., 1.],\n",
       "        [1., 1.]]])"
      ]
     },
     "execution_count": 138,
     "metadata": {},
     "output_type": "execute_result"
    }
   ],
   "source": [
    "np.ones((4, 3, 2))"
   ]
  },
  {
   "cell_type": "markdown",
   "id": "abf87274",
   "metadata": {},
   "source": [
    "There are often instances where we want NumPy to initialize the values of an\n",
    "array. NumPy offers functions like ones() and zeros() , and the random.Generator class for random number generation for that.\n",
    "All you need to do is pass in the number of elements you want it to generate:"
   ]
  },
  {
   "cell_type": "code",
   "execution_count": 139,
   "id": "f240f5b0",
   "metadata": {},
   "outputs": [
    {
     "data": {
      "text/plain": [
       "array([1., 1., 1.])"
      ]
     },
     "execution_count": 139,
     "metadata": {},
     "output_type": "execute_result"
    }
   ],
   "source": [
    "np.ones(3)"
   ]
  },
  {
   "cell_type": "code",
   "execution_count": 140,
   "id": "f6f0cfa0",
   "metadata": {},
   "outputs": [
    {
     "data": {
      "text/plain": [
       "array([0., 0., 0.])"
      ]
     },
     "execution_count": 140,
     "metadata": {},
     "output_type": "execute_result"
    }
   ],
   "source": [
    "np.zeros(3)"
   ]
  },
  {
   "cell_type": "code",
   "execution_count": 141,
   "id": "1c1d44eb",
   "metadata": {},
   "outputs": [],
   "source": [
    "rng = np.random.default_rng()  # the simplest way to generate random numbers"
   ]
  },
  {
   "cell_type": "code",
   "execution_count": 142,
   "id": "3e8c508b",
   "metadata": {},
   "outputs": [
    {
     "data": {
      "text/plain": [
       "array([0.24452592, 0.96916401, 0.82102601])"
      ]
     },
     "execution_count": 142,
     "metadata": {},
     "output_type": "execute_result"
    }
   ],
   "source": [
    "rng.random(3)"
   ]
  },
  {
   "cell_type": "markdown",
   "id": "a0512ded",
   "metadata": {},
   "source": [
    "![../_images/np_ones_zeros_random.png](img/np_ones_zeros_random.png)"
   ]
  },
  {
   "cell_type": "markdown",
   "id": "8c5a85a2",
   "metadata": {},
   "source": [
    "You can also use ones() , zeros() , and random() to create\n",
    "a 2D array if you give them a tuple describing the dimensions of the matrix:"
   ]
  },
  {
   "cell_type": "code",
   "execution_count": 143,
   "id": "d86a5381",
   "metadata": {},
   "outputs": [
    {
     "data": {
      "text/plain": [
       "array([[1., 1.],\n",
       "       [1., 1.],\n",
       "       [1., 1.]])"
      ]
     },
     "execution_count": 143,
     "metadata": {},
     "output_type": "execute_result"
    }
   ],
   "source": [
    "np.ones((3, 2))"
   ]
  },
  {
   "cell_type": "code",
   "execution_count": 144,
   "id": "acbab49a",
   "metadata": {},
   "outputs": [
    {
     "data": {
      "text/plain": [
       "array([[0., 0.],\n",
       "       [0., 0.],\n",
       "       [0., 0.]])"
      ]
     },
     "execution_count": 144,
     "metadata": {},
     "output_type": "execute_result"
    }
   ],
   "source": [
    "np.zeros((3, 2))"
   ]
  },
  {
   "cell_type": "code",
   "execution_count": 145,
   "id": "910e6025",
   "metadata": {},
   "outputs": [
    {
     "data": {
      "text/plain": [
       "array([[0.3300727 , 0.67245945],\n",
       "       [0.713515  , 0.66683544],\n",
       "       [0.66112319, 0.28158229]])"
      ]
     },
     "execution_count": 145,
     "metadata": {},
     "output_type": "execute_result"
    }
   ],
   "source": [
    "rng.random((3, 2))"
   ]
  },
  {
   "cell_type": "markdown",
   "id": "95209fc5",
   "metadata": {},
   "source": [
    "![../_images/np_ones_zeros_matrix.png](img/np_ones_zeros_matrix.png)"
   ]
  },
  {
   "cell_type": "markdown",
   "id": "f7ff1ebb",
   "metadata": {},
   "source": [
    "Read more about creating arrays, filled with 0 ’s, 1 ’s, other values or\n",
    "uninitialized, at array creation routines ."
   ]
  },
  {
   "cell_type": "markdown",
   "id": "3120db91",
   "metadata": {},
   "source": [
    "## Generating random numbers #"
   ]
  },
  {
   "cell_type": "markdown",
   "id": "1ac4c38b",
   "metadata": {},
   "source": [
    "The use of random number generation is an important part of the configuration\n",
    "and evaluation of many numerical and machine learning algorithms. Whether you\n",
    "need to randomly initialize weights in an artificial neural network, split data\n",
    "into random sets, or randomly shuffle your dataset, being able to generate\n",
    "random numbers (actually, repeatable pseudo-random numbers) is essential."
   ]
  },
  {
   "cell_type": "markdown",
   "id": "3a63f5c4",
   "metadata": {},
   "source": [
    "With Generator.integers , you can generate random integers from low (remember\n",
    "that this is inclusive with NumPy) to high (exclusive). You can set endpoint=True to make the high number inclusive."
   ]
  },
  {
   "cell_type": "markdown",
   "id": "4669d127",
   "metadata": {},
   "source": [
    "You can generate a 2 x 4 array of random integers between 0 and 4 with:"
   ]
  },
  {
   "cell_type": "code",
   "execution_count": 146,
   "id": "ec5d09af",
   "metadata": {},
   "outputs": [
    {
     "data": {
      "text/plain": [
       "array([[3, 3, 3, 2],\n",
       "       [1, 4, 4, 2]])"
      ]
     },
     "execution_count": 146,
     "metadata": {},
     "output_type": "execute_result"
    }
   ],
   "source": [
    "rng.integers(5, size=(2, 4))"
   ]
  },
  {
   "cell_type": "markdown",
   "id": "3d9956fe",
   "metadata": {},
   "source": [
    "## How to get unique items and counts #"
   ]
  },
  {
   "cell_type": "markdown",
   "id": "473f7c6c",
   "metadata": {},
   "source": [
    "This section covers np.unique()"
   ]
  },
  {
   "cell_type": "markdown",
   "id": "2a0ae019",
   "metadata": {},
   "source": [
    "You can find the unique elements in an array easily with np.unique ."
   ]
  },
  {
   "cell_type": "markdown",
   "id": "7dce66ff",
   "metadata": {},
   "source": [
    "For example, if you start with this array:"
   ]
  },
  {
   "cell_type": "code",
   "execution_count": 147,
   "id": "dd7eca06",
   "metadata": {},
   "outputs": [],
   "source": [
    "a = np.array([11, 11, 12, 13, 14, 15, 16, 17, 12, 13, 11, 14, 18, 19, 20])"
   ]
  },
  {
   "cell_type": "markdown",
   "id": "ade0c8b0",
   "metadata": {},
   "source": [
    "you can use np.unique to print the unique values in your array:"
   ]
  },
  {
   "cell_type": "code",
   "execution_count": 148,
   "id": "2daa3ba8",
   "metadata": {},
   "outputs": [],
   "source": [
    "unique_values = np.unique(a)"
   ]
  },
  {
   "cell_type": "code",
   "execution_count": 149,
   "id": "285ac391",
   "metadata": {},
   "outputs": [
    {
     "name": "stdout",
     "output_type": "stream",
     "text": [
      "[11 12 13 14 15 16 17 18 19 20]\n"
     ]
    }
   ],
   "source": [
    "print(unique_values)"
   ]
  },
  {
   "cell_type": "markdown",
   "id": "1e2614e5",
   "metadata": {},
   "source": [
    "To get the indices of unique values in a NumPy array (an array of first index\n",
    "positions of unique values in the array), just pass the return_index argument in np.unique() as well as your array."
   ]
  },
  {
   "cell_type": "code",
   "execution_count": 150,
   "id": "047f5ce0",
   "metadata": {},
   "outputs": [],
   "source": [
    "unique_values, indices_list = np.unique(a, return_index=True)"
   ]
  },
  {
   "cell_type": "code",
   "execution_count": 151,
   "id": "657a4056",
   "metadata": {},
   "outputs": [
    {
     "name": "stdout",
     "output_type": "stream",
     "text": [
      "[ 0  2  3  4  5  6  7 12 13 14]\n"
     ]
    }
   ],
   "source": [
    "print(indices_list)"
   ]
  },
  {
   "cell_type": "markdown",
   "id": "c45d4c47",
   "metadata": {},
   "source": [
    "You can pass the return_counts argument in np.unique() along with your\n",
    "array to get the frequency count of unique values in a NumPy array."
   ]
  },
  {
   "cell_type": "code",
   "execution_count": 152,
   "id": "ec84d108",
   "metadata": {},
   "outputs": [],
   "source": [
    "unique_values, occurrence_count = np.unique(a, return_counts=True)"
   ]
  },
  {
   "cell_type": "code",
   "execution_count": 153,
   "id": "cb91deb8",
   "metadata": {},
   "outputs": [
    {
     "name": "stdout",
     "output_type": "stream",
     "text": [
      "[3 2 2 2 1 1 1 1 1 1]\n"
     ]
    }
   ],
   "source": [
    "print(occurrence_count)"
   ]
  },
  {
   "cell_type": "markdown",
   "id": "94536857",
   "metadata": {},
   "source": [
    "This also works with 2D arrays!\n",
    "If you start with this array:"
   ]
  },
  {
   "cell_type": "code",
   "execution_count": 154,
   "id": "8dde36dc",
   "metadata": {},
   "outputs": [],
   "source": [
    "a_2d = np.array([[1, 2, 3, 4], [5, 6, 7, 8], [9, 10, 11, 12], [1, 2, 3, 4]])"
   ]
  },
  {
   "cell_type": "markdown",
   "id": "3bc4dad4",
   "metadata": {},
   "source": [
    "You can find unique values with:"
   ]
  },
  {
   "cell_type": "code",
   "execution_count": 155,
   "id": "c73f3e02",
   "metadata": {},
   "outputs": [],
   "source": [
    "unique_values = np.unique(a_2d)"
   ]
  },
  {
   "cell_type": "code",
   "execution_count": 156,
   "id": "6fa7ff98",
   "metadata": {},
   "outputs": [
    {
     "name": "stdout",
     "output_type": "stream",
     "text": [
      "[ 1  2  3  4  5  6  7  8  9 10 11 12]\n"
     ]
    }
   ],
   "source": [
    "print(unique_values)"
   ]
  },
  {
   "cell_type": "markdown",
   "id": "f9451514",
   "metadata": {},
   "source": [
    "If the axis argument isn’t passed, your 2D array will be flattened."
   ]
  },
  {
   "cell_type": "markdown",
   "id": "b82ce64e",
   "metadata": {},
   "source": [
    "If you want to get the unique rows or columns, make sure to pass the axis argument. To find the unique rows, specify axis=0 and for columns, specify axis=1 ."
   ]
  },
  {
   "cell_type": "code",
   "execution_count": 157,
   "id": "cec1d5bf",
   "metadata": {},
   "outputs": [],
   "source": [
    "unique_rows = np.unique(a_2d, axis=0)"
   ]
  },
  {
   "cell_type": "code",
   "execution_count": 158,
   "id": "d39ef3af",
   "metadata": {},
   "outputs": [
    {
     "name": "stdout",
     "output_type": "stream",
     "text": [
      "[[ 1  2  3  4]\n",
      " [ 5  6  7  8]\n",
      " [ 9 10 11 12]]\n"
     ]
    }
   ],
   "source": [
    "print(unique_rows)"
   ]
  },
  {
   "cell_type": "markdown",
   "id": "23d34ced",
   "metadata": {},
   "source": [
    "To get the unique rows, index position, and occurrence count, you can use:"
   ]
  },
  {
   "cell_type": "code",
   "execution_count": 159,
   "id": "f81a6019",
   "metadata": {},
   "outputs": [],
   "source": [
    "unique_rows, indices, occurrence_count = np.unique(\n",
    "     a_2d, axis=0, return_counts=True, return_index=True)"
   ]
  },
  {
   "cell_type": "code",
   "execution_count": 160,
   "id": "f0209f86",
   "metadata": {},
   "outputs": [
    {
     "name": "stdout",
     "output_type": "stream",
     "text": [
      "[[ 1  2  3  4]\n",
      " [ 5  6  7  8]\n",
      " [ 9 10 11 12]]\n"
     ]
    }
   ],
   "source": [
    "print(unique_rows)"
   ]
  },
  {
   "cell_type": "code",
   "execution_count": 161,
   "id": "b15a4a35",
   "metadata": {},
   "outputs": [
    {
     "name": "stdout",
     "output_type": "stream",
     "text": [
      "[0 1 2]\n"
     ]
    }
   ],
   "source": [
    "print(indices)"
   ]
  },
  {
   "cell_type": "code",
   "execution_count": 162,
   "id": "3027f49a",
   "metadata": {},
   "outputs": [
    {
     "name": "stdout",
     "output_type": "stream",
     "text": [
      "[2 1 1]\n"
     ]
    }
   ],
   "source": [
    "print(occurrence_count)"
   ]
  },
  {
   "cell_type": "markdown",
   "id": "598643f2",
   "metadata": {},
   "source": [
    "To learn more about finding the unique elements in an array, see unique ."
   ]
  },
  {
   "cell_type": "markdown",
   "id": "82438c28",
   "metadata": {},
   "source": [
    "## Transposing and reshaping a matrix #"
   ]
  },
  {
   "cell_type": "markdown",
   "id": "e4db13a9",
   "metadata": {},
   "source": [
    "This section covers arr.reshape() , arr.transpose() , arr.T"
   ]
  },
  {
   "cell_type": "markdown",
   "id": "d9c15028",
   "metadata": {},
   "source": [
    "It’s common to need to transpose your matrices. NumPy arrays have the property T that allows you to transpose a matrix."
   ]
  },
  {
   "cell_type": "markdown",
   "id": "59bc1e85",
   "metadata": {},
   "source": [
    "![../_images/np_transposing_reshaping.png](img/np_transposing_reshaping.png)"
   ]
  },
  {
   "cell_type": "markdown",
   "id": "d71be75d",
   "metadata": {},
   "source": [
    "You may also need to switch the dimensions of a matrix. This can happen when,\n",
    "for example, you have a model that expects a certain input shape that is\n",
    "different from your dataset. This is where the reshape method can be useful.\n",
    "You simply need to pass in the new dimensions that you want for the matrix."
   ]
  },
  {
   "cell_type": "code",
   "execution_count": 163,
   "id": "189b42dc",
   "metadata": {},
   "outputs": [
    {
     "data": {
      "text/plain": [
       "array([[1, 2, 3],\n",
       "       [4, 5, 6]])"
      ]
     },
     "execution_count": 163,
     "metadata": {},
     "output_type": "execute_result"
    }
   ],
   "source": [
    "data.reshape(2, 3)"
   ]
  },
  {
   "cell_type": "code",
   "execution_count": 164,
   "id": "d4dd47a1",
   "metadata": {},
   "outputs": [
    {
     "data": {
      "text/plain": [
       "array([[1, 2],\n",
       "       [3, 4],\n",
       "       [5, 6]])"
      ]
     },
     "execution_count": 164,
     "metadata": {},
     "output_type": "execute_result"
    }
   ],
   "source": [
    "data.reshape(3, 2)"
   ]
  },
  {
   "cell_type": "markdown",
   "id": "d16ab59c",
   "metadata": {},
   "source": [
    "![../_images/np_reshape.png](img/np_reshape.png)"
   ]
  },
  {
   "cell_type": "markdown",
   "id": "14421989",
   "metadata": {},
   "source": [
    "You can also use .transpose() to reverse or change the axes of an array\n",
    "according to the values you specify."
   ]
  },
  {
   "cell_type": "markdown",
   "id": "1b88df1e",
   "metadata": {},
   "source": [
    "If you start with this array:"
   ]
  },
  {
   "cell_type": "code",
   "execution_count": 165,
   "id": "6d0777c4",
   "metadata": {},
   "outputs": [],
   "source": [
    "arr = np.arange(6).reshape((2, 3))"
   ]
  },
  {
   "cell_type": "code",
   "execution_count": 166,
   "id": "87a8b091",
   "metadata": {},
   "outputs": [
    {
     "data": {
      "text/plain": [
       "array([[0, 1, 2],\n",
       "       [3, 4, 5]])"
      ]
     },
     "execution_count": 166,
     "metadata": {},
     "output_type": "execute_result"
    }
   ],
   "source": [
    "arr"
   ]
  },
  {
   "cell_type": "markdown",
   "id": "d28641e3",
   "metadata": {},
   "source": [
    "You can transpose your array with arr.transpose() ."
   ]
  },
  {
   "cell_type": "code",
   "execution_count": 167,
   "id": "ceae5bcb",
   "metadata": {},
   "outputs": [
    {
     "data": {
      "text/plain": [
       "array([[0, 3],\n",
       "       [1, 4],\n",
       "       [2, 5]])"
      ]
     },
     "execution_count": 167,
     "metadata": {},
     "output_type": "execute_result"
    }
   ],
   "source": [
    "arr.transpose()"
   ]
  },
  {
   "cell_type": "markdown",
   "id": "9251050a",
   "metadata": {},
   "source": [
    "You can also use arr.T :"
   ]
  },
  {
   "cell_type": "code",
   "execution_count": 168,
   "id": "a3cb792b",
   "metadata": {},
   "outputs": [
    {
     "data": {
      "text/plain": [
       "array([[0, 3],\n",
       "       [1, 4],\n",
       "       [2, 5]])"
      ]
     },
     "execution_count": 168,
     "metadata": {},
     "output_type": "execute_result"
    }
   ],
   "source": [
    "arr.T"
   ]
  },
  {
   "cell_type": "markdown",
   "id": "f460b389",
   "metadata": {},
   "source": [
    "## How to reverse an array #"
   ]
  },
  {
   "cell_type": "markdown",
   "id": "451aa943",
   "metadata": {},
   "source": [
    "This section covers np.flip()"
   ]
  },
  {
   "cell_type": "markdown",
   "id": "9f48c0ba",
   "metadata": {},
   "source": [
    "NumPy’s np.flip() function allows you to flip, or reverse, the contents of\n",
    "an array along an axis. When using np.flip() , specify the array you would like\n",
    "to reverse and the axis. If you don’t specify the axis, NumPy will reverse the\n",
    "contents along all of the axes of your input array."
   ]
  },
  {
   "cell_type": "markdown",
   "id": "2a736288",
   "metadata": {},
   "source": [
    "Reversing a 1D array"
   ]
  },
  {
   "cell_type": "markdown",
   "id": "89adcf4e",
   "metadata": {},
   "source": [
    "If you begin with a 1D array like this one:"
   ]
  },
  {
   "cell_type": "code",
   "execution_count": 169,
   "id": "b0a987dd",
   "metadata": {},
   "outputs": [],
   "source": [
    "arr = np.array([1, 2, 3, 4, 5, 6, 7, 8])"
   ]
  },
  {
   "cell_type": "markdown",
   "id": "193c73cb",
   "metadata": {},
   "source": [
    "You can reverse it with:"
   ]
  },
  {
   "cell_type": "code",
   "execution_count": 170,
   "id": "b14cde2f",
   "metadata": {},
   "outputs": [],
   "source": [
    "reversed_arr = np.flip(arr)"
   ]
  },
  {
   "cell_type": "markdown",
   "id": "d81f9610",
   "metadata": {},
   "source": [
    "If you want to print your reversed array, you can run:"
   ]
  },
  {
   "cell_type": "code",
   "execution_count": 171,
   "id": "c0bdea81",
   "metadata": {},
   "outputs": [
    {
     "name": "stdout",
     "output_type": "stream",
     "text": [
      "Reversed Array:  [8 7 6 5 4 3 2 1]\n"
     ]
    }
   ],
   "source": [
    "print('Reversed Array: ', reversed_arr)"
   ]
  },
  {
   "cell_type": "markdown",
   "id": "37282a1e",
   "metadata": {},
   "source": [
    "Reversing a 2D array"
   ]
  },
  {
   "cell_type": "markdown",
   "id": "1585ed58",
   "metadata": {},
   "source": [
    "A 2D array works much the same way."
   ]
  },
  {
   "cell_type": "markdown",
   "id": "3ea9d6de",
   "metadata": {},
   "source": [
    "If you start with this array:"
   ]
  },
  {
   "cell_type": "code",
   "execution_count": 172,
   "id": "eacb1e96",
   "metadata": {},
   "outputs": [],
   "source": [
    "arr_2d = np.array([[1, 2, 3, 4], [5, 6, 7, 8], [9, 10, 11, 12]])"
   ]
  },
  {
   "cell_type": "markdown",
   "id": "4492c474",
   "metadata": {},
   "source": [
    "You can reverse the content in all of the rows and all of the columns with:"
   ]
  },
  {
   "cell_type": "code",
   "execution_count": 173,
   "id": "59ebc452",
   "metadata": {},
   "outputs": [],
   "source": [
    "reversed_arr = np.flip(arr_2d)"
   ]
  },
  {
   "cell_type": "code",
   "execution_count": 174,
   "id": "1f5527b3",
   "metadata": {},
   "outputs": [
    {
     "name": "stdout",
     "output_type": "stream",
     "text": [
      "[[12 11 10  9]\n",
      " [ 8  7  6  5]\n",
      " [ 4  3  2  1]]\n"
     ]
    }
   ],
   "source": [
    "print(reversed_arr)"
   ]
  },
  {
   "cell_type": "markdown",
   "id": "18da031b",
   "metadata": {},
   "source": [
    "You can easily reverse only the rows with:"
   ]
  },
  {
   "cell_type": "code",
   "execution_count": 175,
   "id": "fee68d95",
   "metadata": {},
   "outputs": [],
   "source": [
    "reversed_arr_rows = np.flip(arr_2d, axis=0)"
   ]
  },
  {
   "cell_type": "code",
   "execution_count": 176,
   "id": "1ae6b868",
   "metadata": {},
   "outputs": [
    {
     "name": "stdout",
     "output_type": "stream",
     "text": [
      "[[ 9 10 11 12]\n",
      " [ 5  6  7  8]\n",
      " [ 1  2  3  4]]\n"
     ]
    }
   ],
   "source": [
    "print(reversed_arr_rows)"
   ]
  },
  {
   "cell_type": "markdown",
   "id": "a7857a8c",
   "metadata": {},
   "source": [
    "Or reverse only the columns with:"
   ]
  },
  {
   "cell_type": "code",
   "execution_count": 177,
   "id": "94baee68",
   "metadata": {},
   "outputs": [],
   "source": [
    "reversed_arr_columns = np.flip(arr_2d, axis=1)"
   ]
  },
  {
   "cell_type": "code",
   "execution_count": 178,
   "id": "48c26957",
   "metadata": {},
   "outputs": [
    {
     "name": "stdout",
     "output_type": "stream",
     "text": [
      "[[ 4  3  2  1]\n",
      " [ 8  7  6  5]\n",
      " [12 11 10  9]]\n"
     ]
    }
   ],
   "source": [
    "print(reversed_arr_columns)"
   ]
  },
  {
   "cell_type": "markdown",
   "id": "2dc04f45",
   "metadata": {},
   "source": [
    "You can also reverse the contents of only one column or row. For example, you\n",
    "can reverse the contents of the row at index position 1 (the second row):"
   ]
  },
  {
   "cell_type": "code",
   "execution_count": 179,
   "id": "b96021b1",
   "metadata": {},
   "outputs": [],
   "source": [
    "arr_2d[1] = np.flip(arr_2d[1])"
   ]
  },
  {
   "cell_type": "code",
   "execution_count": 180,
   "id": "1c7eaee9",
   "metadata": {},
   "outputs": [
    {
     "name": "stdout",
     "output_type": "stream",
     "text": [
      "[[ 1  2  3  4]\n",
      " [ 8  7  6  5]\n",
      " [ 9 10 11 12]]\n"
     ]
    }
   ],
   "source": [
    "print(arr_2d)"
   ]
  },
  {
   "cell_type": "markdown",
   "id": "ec67b150",
   "metadata": {},
   "source": [
    "You can also reverse the column at index position 1 (the second column):"
   ]
  },
  {
   "cell_type": "code",
   "execution_count": 181,
   "id": "7bf6788d",
   "metadata": {},
   "outputs": [],
   "source": [
    "arr_2d[:,1] = np.flip(arr_2d[:,1])"
   ]
  },
  {
   "cell_type": "code",
   "execution_count": 182,
   "id": "751c3754",
   "metadata": {},
   "outputs": [
    {
     "name": "stdout",
     "output_type": "stream",
     "text": [
      "[[ 1 10  3  4]\n",
      " [ 8  7  6  5]\n",
      " [ 9  2 11 12]]\n"
     ]
    }
   ],
   "source": [
    "print(arr_2d)"
   ]
  },
  {
   "cell_type": "markdown",
   "id": "58ef16b0",
   "metadata": {},
   "source": [
    "## Reshaping and flattening multidimensional arrays #"
   ]
  },
  {
   "cell_type": "markdown",
   "id": "977d3aa9",
   "metadata": {},
   "source": [
    "This section covers .flatten() , ravel()"
   ]
  },
  {
   "cell_type": "markdown",
   "id": "5470298f",
   "metadata": {},
   "source": [
    "There are two popular ways to flatten an array: .flatten() and .ravel() .\n",
    "The primary difference between the two is that the new array created using ravel() is actually a reference to the parent array (i.e., a “view”). This\n",
    "means that any changes to the new array will affect the parent array as well.\n",
    "Since ravel does not create a copy, it’s memory efficient."
   ]
  },
  {
   "cell_type": "markdown",
   "id": "5013a69a",
   "metadata": {},
   "source": [
    "If you start with this array:"
   ]
  },
  {
   "cell_type": "code",
   "execution_count": 183,
   "id": "39de4ca8",
   "metadata": {},
   "outputs": [],
   "source": [
    "x = np.array([[1, 2, 3, 4], [5, 6, 7, 8], [9, 10, 11, 12]])"
   ]
  },
  {
   "cell_type": "markdown",
   "id": "bd5c61f3",
   "metadata": {},
   "source": [
    "You can use flatten to flatten your array into a 1D array."
   ]
  },
  {
   "cell_type": "code",
   "execution_count": 184,
   "id": "648afc46",
   "metadata": {},
   "outputs": [
    {
     "data": {
      "text/plain": [
       "array([ 1,  2,  3,  4,  5,  6,  7,  8,  9, 10, 11, 12])"
      ]
     },
     "execution_count": 184,
     "metadata": {},
     "output_type": "execute_result"
    }
   ],
   "source": [
    "x.flatten()"
   ]
  },
  {
   "cell_type": "markdown",
   "id": "f42d01f8",
   "metadata": {},
   "source": [
    "When you use flatten , changes to your new array won’t change the parent\n",
    "array."
   ]
  },
  {
   "cell_type": "markdown",
   "id": "be77e74f",
   "metadata": {},
   "source": [
    "For example:"
   ]
  },
  {
   "cell_type": "code",
   "execution_count": 185,
   "id": "58217438",
   "metadata": {},
   "outputs": [],
   "source": [
    "a1 = x.flatten()"
   ]
  },
  {
   "cell_type": "code",
   "execution_count": 186,
   "id": "10cb602d",
   "metadata": {},
   "outputs": [],
   "source": [
    "a1[0] = 99"
   ]
  },
  {
   "cell_type": "code",
   "execution_count": 187,
   "id": "53229503",
   "metadata": {},
   "outputs": [
    {
     "name": "stdout",
     "output_type": "stream",
     "text": [
      "[[ 1  2  3  4]\n",
      " [ 5  6  7  8]\n",
      " [ 9 10 11 12]]\n"
     ]
    }
   ],
   "source": [
    "print(x)  # Original array"
   ]
  },
  {
   "cell_type": "code",
   "execution_count": 188,
   "id": "6998492f",
   "metadata": {},
   "outputs": [
    {
     "name": "stdout",
     "output_type": "stream",
     "text": [
      "[99  2  3  4  5  6  7  8  9 10 11 12]\n"
     ]
    }
   ],
   "source": [
    "print(a1)  # New array"
   ]
  },
  {
   "cell_type": "markdown",
   "id": "9dd799ef",
   "metadata": {},
   "source": [
    "But when you use ravel , the changes you make to the new array will affect\n",
    "the parent array."
   ]
  },
  {
   "cell_type": "markdown",
   "id": "364ec867",
   "metadata": {},
   "source": [
    "For example:"
   ]
  },
  {
   "cell_type": "code",
   "execution_count": 189,
   "id": "5c8b2cdd",
   "metadata": {},
   "outputs": [],
   "source": [
    "a2 = x.ravel()"
   ]
  },
  {
   "cell_type": "code",
   "execution_count": 190,
   "id": "67ea0668",
   "metadata": {},
   "outputs": [],
   "source": [
    "a2[0] = 98"
   ]
  },
  {
   "cell_type": "code",
   "execution_count": 191,
   "id": "11fbce64",
   "metadata": {},
   "outputs": [
    {
     "name": "stdout",
     "output_type": "stream",
     "text": [
      "[[98  2  3  4]\n",
      " [ 5  6  7  8]\n",
      " [ 9 10 11 12]]\n"
     ]
    }
   ],
   "source": [
    "print(x)  # Original array"
   ]
  },
  {
   "cell_type": "code",
   "execution_count": 192,
   "id": "65b6adae",
   "metadata": {},
   "outputs": [
    {
     "name": "stdout",
     "output_type": "stream",
     "text": [
      "[98  2  3  4  5  6  7  8  9 10 11 12]\n"
     ]
    }
   ],
   "source": [
    "print(a2)  # New array"
   ]
  },
  {
   "cell_type": "markdown",
   "id": "e95e9cce",
   "metadata": {},
   "source": [
    "## Working with mathematical formulas #"
   ]
  },
  {
   "cell_type": "markdown",
   "id": "6109646a",
   "metadata": {},
   "source": [
    "The ease of implementing mathematical formulas that work on arrays is one of\n",
    "the things that make NumPy so widely used in the scientific Python community."
   ]
  },
  {
   "cell_type": "markdown",
   "id": "bc6239de",
   "metadata": {},
   "source": [
    "For example, this is the mean square error formula (a central formula used in\n",
    "supervised machine learning models that deal with regression):"
   ]
  },
  {
   "cell_type": "markdown",
   "id": "0d064aa3",
   "metadata": {},
   "source": [
    "![../_images/np_MSE_formula.png](img/np_MSE_formula.png)"
   ]
  },
  {
   "cell_type": "markdown",
   "id": "d5607791",
   "metadata": {},
   "source": [
    "Implementing this formula is simple and straightforward in NumPy:"
   ]
  },
  {
   "cell_type": "markdown",
   "id": "584829aa",
   "metadata": {},
   "source": [
    "![../_images/np_MSE_implementation.png](img/np_MSE_implementation.png)"
   ]
  },
  {
   "cell_type": "markdown",
   "id": "5919e7f4",
   "metadata": {},
   "source": [
    "What makes this work so well is that predictions and labels can contain\n",
    "one or a thousand values. They only need to be the same size."
   ]
  },
  {
   "cell_type": "markdown",
   "id": "2c971453",
   "metadata": {},
   "source": [
    "You can visualize it this way:"
   ]
  },
  {
   "cell_type": "markdown",
   "id": "4d4b4ea8",
   "metadata": {},
   "source": [
    "![../_images/np_mse_viz1.png](img/np_mse_viz1.png)"
   ]
  },
  {
   "cell_type": "markdown",
   "id": "004078c2",
   "metadata": {},
   "source": [
    "In this example, both the predictions and labels vectors contain three values,\n",
    "meaning n has a value of three. After we carry out subtractions the values\n",
    "in the vector are squared. Then NumPy sums the values, and your result is the\n",
    "error value for that prediction and a score for the quality of the model."
   ]
  },
  {
   "cell_type": "markdown",
   "id": "b05f49de",
   "metadata": {},
   "source": [
    "![../_images/np_mse_viz2.png](img/np_mse_viz2.png)"
   ]
  },
  {
   "cell_type": "markdown",
   "id": "53dc95f5",
   "metadata": {},
   "source": [
    "![../_images/np_MSE_explanation2.png](img/np_MSE_explanation2.png)"
   ]
  },
  {
   "cell_type": "markdown",
   "id": "51b0eb86",
   "metadata": {},
   "source": [
    "## How to save and load NumPy objects #"
   ]
  },
  {
   "cell_type": "markdown",
   "id": "53e30eff",
   "metadata": {},
   "source": [
    "This section covers np.save , np.savez , np.savetxt , np.load , np.loadtxt"
   ]
  },
  {
   "cell_type": "markdown",
   "id": "bba6d0a8",
   "metadata": {},
   "source": [
    "You will, at some point, want to save your arrays to disk and load them back\n",
    "without having to re-run the code. Fortunately, there are several ways to save\n",
    "and load objects with NumPy. The ndarray objects can be saved to and loaded from\n",
    "the disk files with loadtxt and savetxt functions that handle normal\n",
    "text files, load and save functions that handle NumPy binary files with\n",
    "a .npy file extension, and a savez function that handles NumPy files\n",
    "with a .npz file extension."
   ]
  },
  {
   "cell_type": "markdown",
   "id": "36f484b6",
   "metadata": {},
   "source": [
    "The .npy and .npz files store data, shape, dtype, and other information\n",
    "required to reconstruct the ndarray in a way that allows the array to be\n",
    "correctly retrieved, even when the file is on another machine with different\n",
    "architecture."
   ]
  },
  {
   "cell_type": "markdown",
   "id": "ccb18d32",
   "metadata": {},
   "source": [
    "If you want to store a single ndarray object, store it as a .npy file using np.save . If you want to store more than one ndarray object in a single file,\n",
    "save it as a .npz file using np.savez . You can also save several arrays\n",
    "into a single file in compressed npz format with savez_compressed ."
   ]
  },
  {
   "cell_type": "markdown",
   "id": "311f8332",
   "metadata": {},
   "source": [
    "It’s easy to save and load an array with np.save() . Just make sure to\n",
    "specify the array you want to save and a file name. For example, if you create\n",
    "this array:"
   ]
  },
  {
   "cell_type": "markdown",
   "id": "fce311fc",
   "metadata": {},
   "source": [
    "You can save it as “filename.npy” with:"
   ]
  },
  {
   "cell_type": "code",
   "execution_count": 193,
   "id": "21d0e0f3",
   "metadata": {},
   "outputs": [],
   "source": [
    "np.save('filename', a)"
   ]
  },
  {
   "cell_type": "markdown",
   "id": "2b6c75fb",
   "metadata": {},
   "source": [
    "You can use np.load() to reconstruct your array."
   ]
  },
  {
   "cell_type": "code",
   "execution_count": 194,
   "id": "c21e29f9",
   "metadata": {},
   "outputs": [],
   "source": [
    "b = np.load('filename.npy')"
   ]
  },
  {
   "cell_type": "markdown",
   "id": "09269d8b",
   "metadata": {},
   "source": [
    "If you want to check your array, you can run:"
   ]
  },
  {
   "cell_type": "code",
   "execution_count": 195,
   "id": "f36175c8",
   "metadata": {},
   "outputs": [
    {
     "name": "stdout",
     "output_type": "stream",
     "text": [
      "[11 11 12 13 14 15 16 17 12 13 11 14 18 19 20]\n"
     ]
    }
   ],
   "source": [
    "print(b)"
   ]
  },
  {
   "cell_type": "markdown",
   "id": "31ccf0c2",
   "metadata": {},
   "source": [
    "You can save a NumPy array as a plain text file like a .csv or .txt file\n",
    "with np.savetxt ."
   ]
  },
  {
   "cell_type": "markdown",
   "id": "8d782738",
   "metadata": {},
   "source": [
    "For example, if you create this array:"
   ]
  },
  {
   "cell_type": "code",
   "execution_count": 196,
   "id": "c268ea4f",
   "metadata": {},
   "outputs": [],
   "source": [
    "csv_arr = np.array([1, 2, 3, 4, 5, 6, 7, 8])"
   ]
  },
  {
   "cell_type": "markdown",
   "id": "58916883",
   "metadata": {},
   "source": [
    "You can easily save it as a .csv file with the name “new_file.csv” like this:"
   ]
  },
  {
   "cell_type": "code",
   "execution_count": 197,
   "id": "56ff693a",
   "metadata": {},
   "outputs": [],
   "source": [
    "np.savetxt('new_file.csv', csv_arr)"
   ]
  },
  {
   "cell_type": "markdown",
   "id": "fd729ab0",
   "metadata": {},
   "source": [
    "You can quickly and easily load your saved text file using loadtxt() :"
   ]
  },
  {
   "cell_type": "code",
   "execution_count": 198,
   "id": "cf9fea75",
   "metadata": {},
   "outputs": [
    {
     "data": {
      "text/plain": [
       "array([1., 2., 3., 4., 5., 6., 7., 8.])"
      ]
     },
     "execution_count": 198,
     "metadata": {},
     "output_type": "execute_result"
    }
   ],
   "source": [
    "np.loadtxt('new_file.csv')"
   ]
  },
  {
   "cell_type": "markdown",
   "id": "a88d3cb3",
   "metadata": {},
   "source": [
    "The savetxt() and loadtxt() functions accept additional optional\n",
    "parameters such as header, footer, and delimiter. While text files can be easier\n",
    "for sharing, .npy and .npz files are smaller and faster to read. If you need more\n",
    "sophisticated handling of your text file (for example, if you need to work with\n",
    "lines that contain missing values), you will want to use the genfromtxt function."
   ]
  },
  {
   "cell_type": "markdown",
   "id": "84ab1e57",
   "metadata": {},
   "source": [
    "With savetxt , you can specify headers, footers, comments, and more."
   ]
  },
  {
   "cell_type": "markdown",
   "id": "5d3ed6db",
   "metadata": {},
   "source": [
    "Learn more about input and output routines here ."
   ]
  },
  {
   "cell_type": "markdown",
   "id": "f6aef202",
   "metadata": {},
   "source": [
    "## Plotting arrays with Matplotlib #"
   ]
  },
  {
   "cell_type": "markdown",
   "id": "f39a3ea9",
   "metadata": {},
   "source": [
    "If you need to generate a plot for your values, it’s very simple with Matplotlib ."
   ]
  },
  {
   "cell_type": "markdown",
   "id": "144b9374",
   "metadata": {},
   "source": [
    "For example, you may have an array like this one:"
   ]
  },
  {
   "cell_type": "code",
   "execution_count": 199,
   "id": "d100ca16",
   "metadata": {},
   "outputs": [],
   "source": [
    "a = np.array([2, 1, 5, 7, 4, 6, 8, 14, 10, 9, 18, 20, 22])"
   ]
  },
  {
   "cell_type": "markdown",
   "id": "1bdf2a8a",
   "metadata": {},
   "source": [
    "If you already have Matplotlib installed, you can import it with:"
   ]
  },
  {
   "cell_type": "code",
   "execution_count": 216,
   "id": "416e701e",
   "metadata": {},
   "outputs": [],
   "source": [
    "import matplotlib.pyplot as plt\n",
    "%matplotlib inline"
   ]
  },
  {
   "cell_type": "markdown",
   "id": "684b8f56",
   "metadata": {},
   "source": [
    "All you need to do to plot your values is run:"
   ]
  },
  {
   "cell_type": "code",
   "execution_count": 201,
   "id": "51432650",
   "metadata": {},
   "outputs": [
    {
     "data": {
      "text/plain": [
       "[<matplotlib.lines.Line2D at 0x7066a5ffa680>]"
      ]
     },
     "execution_count": 201,
     "metadata": {},
     "output_type": "execute_result"
    },
    {
     "data": {
      "image/png": "[encoded data removed]",
      "text/plain": [
       "<Figure size 640x480 with 1 Axes>"
      ]
     },
     "metadata": {},
     "output_type": "display_data"
    }
   ],
   "source": [
    "plt.plot(a)"
   ]
  },
  {
   "cell_type": "markdown",
   "id": "f2d22ea0",
   "metadata": {},
   "source": [
    "For example, you can plot a 1D array like this:"
   ]
  },
  {
   "cell_type": "code",
   "execution_count": 202,
   "id": "a45300c8",
   "metadata": {},
   "outputs": [],
   "source": [
    "x = np.linspace(0, 5, 20)"
   ]
  },
  {
   "cell_type": "code",
   "execution_count": 203,
   "id": "0d6fba66",
   "metadata": {},
   "outputs": [],
   "source": [
    "y = np.linspace(0, 10, 20)"
   ]
  },
  {
   "cell_type": "code",
   "execution_count": 204,
   "id": "fce08c08",
   "metadata": {},
   "outputs": [
    {
     "data": {
      "text/plain": [
       "[<matplotlib.lines.Line2D at 0x7066a0d5dcf0>]"
      ]
     },
     "execution_count": 204,
     "metadata": {},
     "output_type": "execute_result"
    },
    {
     "data": {
      "image/png": "[encoded data removed]",
      "text/plain": [
       "<Figure size 640x480 with 1 Axes>"
      ]
     },
     "metadata": {},
     "output_type": "display_data"
    }
   ],
   "source": [
    "plt.plot(x, y, 'purple') # line"
   ]
  },
  {
   "cell_type": "code",
   "execution_count": 205,
   "id": "f29a3ef7",
   "metadata": {},
   "outputs": [
    {
     "data": {
      "text/plain": [
       "[<matplotlib.lines.Line2D at 0x70669c381a80>]"
      ]
     },
     "execution_count": 205,
     "metadata": {},
     "output_type": "execute_result"
    },
    {
     "data": {
      "image/png": "[encoded data removed]",
      "text/plain": [
       "<Figure size 640x480 with 1 Axes>"
      ]
     },
     "metadata": {},
     "output_type": "display_data"
    }
   ],
   "source": [
    "plt.plot(x, y, 'o')      # dots"
   ]
  },
  {
   "cell_type": "markdown",
   "id": "07c8e377",
   "metadata": {},
   "source": [
    "With Matplotlib, you have access to an enormous number of visualization options."
   ]
  },
  {
   "cell_type": "code",
   "execution_count": 206,
   "id": "7f5aab8b",
   "metadata": {},
   "outputs": [
    {
     "data": {
      "text/plain": [
       "<Figure size 640x480 with 0 Axes>"
      ]
     },
     "metadata": {},
     "output_type": "display_data"
    }
   ],
   "source": [
    "fig = plt.figure()"
   ]
  },
  {
   "cell_type": "code",
   "execution_count": 207,
   "id": "7dc99ff4",
   "metadata": {},
   "outputs": [],
   "source": [
    "ax = fig.add_subplot(projection='3d')"
   ]
  },
  {
   "cell_type": "code",
   "execution_count": 208,
   "id": "b69b0c9e",
   "metadata": {},
   "outputs": [],
   "source": [
    "X = np.arange(-5, 5, 0.15)"
   ]
  },
  {
   "cell_type": "code",
   "execution_count": 209,
   "id": "f7b2c4db",
   "metadata": {},
   "outputs": [],
   "source": [
    "Y = np.arange(-5, 5, 0.15)"
   ]
  },
  {
   "cell_type": "code",
   "execution_count": 210,
   "id": "5389618a",
   "metadata": {},
   "outputs": [],
   "source": [
    "X, Y = np.meshgrid(X, Y)"
   ]
  },
  {
   "cell_type": "code",
   "execution_count": 211,
   "id": "e0b81125",
   "metadata": {},
   "outputs": [],
   "source": [
    "R = np.sqrt(X**2 + Y**2)"
   ]
  },
  {
   "cell_type": "code",
   "execution_count": 212,
   "id": "f2f0c2c8",
   "metadata": {},
   "outputs": [],
   "source": [
    "Z = np.sin(R)"
   ]
  },
  {
   "cell_type": "code",
   "execution_count": 218,
   "id": "3bd30c25",
   "metadata": {},
   "outputs": [
    {
     "data": {
      "text/plain": [
       "<mpl_toolkits.mplot3d.art3d.Poly3DCollection at 0x7066bcdd87f0>"
      ]
     },
     "execution_count": 218,
     "metadata": {},
     "output_type": "execute_result"
    }
   ],
   "source": [
    "ax.plot_surface(X, Y, Z, rstride=1, cstride=1, cmap='viridis')"
   ]
  },
  {
   "cell_type": "markdown",
   "id": "529d8426",
   "metadata": {},
   "source": [
    "![../_images/matplotlib3.png](img/matplotlib3.png)"
   ]
  }
 ],
 "metadata": {
  "generated_at": "2025-09-14T12:41:13.430835Z",
  "generator": "numpy-absolute-beginners-scraper",
  "kernelspec": {
   "display_name": "Python 3 (ipykernel)",
   "language": "python",
   "name": "python3"
  },
  "language_info": {
   "codemirror_mode": {
    "name": "ipython",
    "version": 3
   },
   "file_extension": ".py",
   "mimetype": "text/x-python",
   "name": "python",
   "nbconvert_exporter": "python",
   "pygments_lexer": "ipython3",
   "version": "3.10.17"
  },
  "source_url": "https://numpy.org/doc/stable/user/absolute_beginners.html"
 },
 "nbformat": 4,
 "nbformat_minor": 5
}
