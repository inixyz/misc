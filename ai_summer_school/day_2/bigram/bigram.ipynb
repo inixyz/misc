{
 "cells": [
  {
   "cell_type": "code",
   "execution_count": null,
   "id": "35b7420f-82d7-4d13-8deb-9bc8ea5a9517",
   "metadata": {},
   "outputs": [],
   "source": [
    "words = open(\"names.txt\").read().splitlines()"
   ]
  },
  {
   "cell_type": "code",
   "execution_count": null,
   "id": "aa15c80a-92bb-4cd9-af9b-22e6cfcce377",
   "metadata": {},
   "outputs": [],
   "source": [
    "words[:5]"
   ]
  },
  {
   "cell_type": "code",
   "execution_count": null,
   "id": "fe7c3c79-7154-4903-ad73-0961d37b2426",
   "metadata": {},
   "outputs": [],
   "source": [
    "len(words)"
   ]
  },
  {
   "cell_type": "code",
   "execution_count": null,
   "id": "c49872ea-6e6a-4992-8ed0-eca6b77be3d7",
   "metadata": {},
   "outputs": [],
   "source": [
    "min(len(w) for w in words), max(len(w) for w in words)"
   ]
  },
  {
   "cell_type": "code",
   "execution_count": null,
   "id": "4e2fe951-6b8a-45da-83b9-55e9882caf78",
   "metadata": {},
   "outputs": [],
   "source": [
    "b = {}\n",
    "for w in words: \n",
    "    chs = [\"<S>\"] + list(w) + [\"<E>\"]\n",
    "    for ch1, ch2 in zip(chs, chs[1:]):\n",
    "        bigram = (ch1, ch2)\n",
    "        b[bigram] = b.get(bigram, 0) + 1"
   ]
  },
  {
   "cell_type": "code",
   "execution_count": null,
   "id": "0771eb93",
   "metadata": {},
   "outputs": [],
   "source": [
    "sorted(b.items(), key=lambda kv: -kv[1])[:10]"
   ]
  },
  {
   "cell_type": "code",
   "execution_count": null,
   "id": "234590dc",
   "metadata": {},
   "outputs": [],
   "source": [
    "import torch"
   ]
  },
  {
   "cell_type": "code",
   "execution_count": null,
   "id": "109511c7",
   "metadata": {},
   "outputs": [],
   "source": [
    "N = torch.zeros((27, 27), dtype=torch.int32)"
   ]
  },
  {
   "cell_type": "code",
   "execution_count": null,
   "id": "f2958cab",
   "metadata": {},
   "outputs": [],
   "source": [
    "chars = sorted(list(set(\"\".join(words))))\n",
    "stoi = {s:i + 1 for i, s in enumerate(chars)}\n",
    "stoi[\".\"] = 0 \n",
    "itos = {i:s for s, i in stoi.items()}"
   ]
  },
  {
   "cell_type": "code",
   "execution_count": null,
   "id": "d8d87025",
   "metadata": {},
   "outputs": [],
   "source": [
    "for w in words:\n",
    "    chs = [\".\"] + list(w) + [\".\"]\n",
    "    for ch1, ch2 in zip(chs, chs[1:]):\n",
    "        N[stoi[ch1], stoi[ch2]] += 1"
   ]
  },
  {
   "cell_type": "code",
   "execution_count": null,
   "id": "7b1657a0",
   "metadata": {},
   "outputs": [],
   "source": [
    "import matplotlib.pyplot as plt\n",
    "%matplotlib inline\n",
    "\n",
    "plt.figure(figsize=(15, 15))\n",
    "plt.imshow(N, cmap=\"Blues\")\n",
    "for y in range(27):\n",
    "    for x in range(27):\n",
    "        plt.text(x, y, itos[y] + itos[x], ha=\"center\", va=\"bottom\", color=\"gray\")\n",
    "        plt.text(x, y, N[y, x].item(), ha=\"center\", va=\"top\", color=\"gray\")\n",
    "plt.axis(\"off\");"
   ]
  },
  {
   "cell_type": "code",
   "execution_count": null,
   "id": "c69e1594",
   "metadata": {},
   "outputs": [],
   "source": [
    "N[0]"
   ]
  },
  {
   "cell_type": "code",
   "execution_count": null,
   "id": "2cfef17c",
   "metadata": {},
   "outputs": [],
   "source": [
    "p = N[0].float()\n",
    "p /= p.sum()\n",
    "p"
   ]
  },
  {
   "cell_type": "code",
   "execution_count": null,
   "id": "dde26812",
   "metadata": {},
   "outputs": [],
   "source": [
    "p.shape"
   ]
  },
  {
   "cell_type": "code",
   "execution_count": null,
   "id": "8c62d1ab",
   "metadata": {},
   "outputs": [],
   "source": [
    "g = torch.Generator().manual_seed(2**31 - 1)\n",
    "idx = torch.multinomial(p, 1, True, generator=g).item()\n",
    "itos[idx]"
   ]
  },
  {
   "cell_type": "code",
   "execution_count": null,
   "id": "e0180f4c",
   "metadata": {},
   "outputs": [],
   "source": [
    "P = (N + 1).float() \n",
    "P /= P.sum(1, True)"
   ]
  },
  {
   "cell_type": "code",
   "execution_count": null,
   "id": "e49722f6",
   "metadata": {},
   "outputs": [],
   "source": [
    "for _ in range(5):\n",
    "    idx, out = 0, []\n",
    "    while True:\n",
    "        p = P[idx]\n",
    "        idx = torch.multinomial(p, 1, True, generator=g).item()\n",
    "        out.append(itos[idx])\n",
    "        if idx == stoi[\".\"]:\n",
    "            break\n",
    "    print(\"\".join(out))"
   ]
  }
 ],
 "metadata": {
  "kernelspec": {
   "display_name": "Python 3 (ipykernel)",
   "language": "python",
   "name": "python3"
  },
  "language_info": {
   "codemirror_mode": {
    "name": "ipython",
    "version": 3
   },
   "file_extension": ".py",
   "mimetype": "text/x-python",
   "name": "python",
   "nbconvert_exporter": "python",
   "pygments_lexer": "ipython3",
   "version": "3.10.17"
  }
 },
 "nbformat": 4,
 "nbformat_minor": 5
}
